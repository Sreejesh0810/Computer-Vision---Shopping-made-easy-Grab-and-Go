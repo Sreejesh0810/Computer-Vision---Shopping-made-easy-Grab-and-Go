{
  "nbformat": 4,
  "nbformat_minor": 0,
  "metadata": {
    "colab": {
      "provenance": [],
      "gpuType": "T4"
    },
    "kernelspec": {
      "name": "python3",
      "display_name": "Python 3"
    },
    "language_info": {
      "name": "python"
    },
    "accelerator": "GPU"
  },
  "cells": [
    {
      "cell_type": "code",
      "execution_count": null,
      "metadata": {
        "id": "VPo9UsKZjr4u",
        "colab": {
          "base_uri": "https://localhost:8080/"
        },
        "outputId": "bdc5856d-59d5-4075-90bc-3f1bbc39021c"
      },
      "outputs": [
        {
          "output_type": "stream",
          "name": "stdout",
          "text": [
            "Collecting ultralytics\n",
            "  Downloading ultralytics-8.3.38-py3-none-any.whl.metadata (35 kB)\n",
            "Requirement already satisfied: numpy>=1.23.0 in /usr/local/lib/python3.10/dist-packages (from ultralytics) (1.26.4)\n",
            "Requirement already satisfied: matplotlib>=3.3.0 in /usr/local/lib/python3.10/dist-packages (from ultralytics) (3.8.0)\n",
            "Requirement already satisfied: opencv-python>=4.6.0 in /usr/local/lib/python3.10/dist-packages (from ultralytics) (4.10.0.84)\n",
            "Requirement already satisfied: pillow>=7.1.2 in /usr/local/lib/python3.10/dist-packages (from ultralytics) (11.0.0)\n",
            "Requirement already satisfied: pyyaml>=5.3.1 in /usr/local/lib/python3.10/dist-packages (from ultralytics) (6.0.2)\n",
            "Requirement already satisfied: requests>=2.23.0 in /usr/local/lib/python3.10/dist-packages (from ultralytics) (2.32.3)\n",
            "Requirement already satisfied: scipy>=1.4.1 in /usr/local/lib/python3.10/dist-packages (from ultralytics) (1.13.1)\n",
            "Requirement already satisfied: torch>=1.8.0 in /usr/local/lib/python3.10/dist-packages (from ultralytics) (2.5.1+cu121)\n",
            "Requirement already satisfied: torchvision>=0.9.0 in /usr/local/lib/python3.10/dist-packages (from ultralytics) (0.20.1+cu121)\n",
            "Requirement already satisfied: tqdm>=4.64.0 in /usr/local/lib/python3.10/dist-packages (from ultralytics) (4.66.6)\n",
            "Requirement already satisfied: psutil in /usr/local/lib/python3.10/dist-packages (from ultralytics) (5.9.5)\n",
            "Requirement already satisfied: py-cpuinfo in /usr/local/lib/python3.10/dist-packages (from ultralytics) (9.0.0)\n",
            "Requirement already satisfied: pandas>=1.1.4 in /usr/local/lib/python3.10/dist-packages (from ultralytics) (2.2.2)\n",
            "Requirement already satisfied: seaborn>=0.11.0 in /usr/local/lib/python3.10/dist-packages (from ultralytics) (0.13.2)\n",
            "Collecting ultralytics-thop>=2.0.0 (from ultralytics)\n",
            "  Downloading ultralytics_thop-2.0.12-py3-none-any.whl.metadata (9.4 kB)\n",
            "Requirement already satisfied: contourpy>=1.0.1 in /usr/local/lib/python3.10/dist-packages (from matplotlib>=3.3.0->ultralytics) (1.3.1)\n",
            "Requirement already satisfied: cycler>=0.10 in /usr/local/lib/python3.10/dist-packages (from matplotlib>=3.3.0->ultralytics) (0.12.1)\n",
            "Requirement already satisfied: fonttools>=4.22.0 in /usr/local/lib/python3.10/dist-packages (from matplotlib>=3.3.0->ultralytics) (4.55.0)\n",
            "Requirement already satisfied: kiwisolver>=1.0.1 in /usr/local/lib/python3.10/dist-packages (from matplotlib>=3.3.0->ultralytics) (1.4.7)\n",
            "Requirement already satisfied: packaging>=20.0 in /usr/local/lib/python3.10/dist-packages (from matplotlib>=3.3.0->ultralytics) (24.2)\n",
            "Requirement already satisfied: pyparsing>=2.3.1 in /usr/local/lib/python3.10/dist-packages (from matplotlib>=3.3.0->ultralytics) (3.2.0)\n",
            "Requirement already satisfied: python-dateutil>=2.7 in /usr/local/lib/python3.10/dist-packages (from matplotlib>=3.3.0->ultralytics) (2.8.2)\n",
            "Requirement already satisfied: pytz>=2020.1 in /usr/local/lib/python3.10/dist-packages (from pandas>=1.1.4->ultralytics) (2024.2)\n",
            "Requirement already satisfied: tzdata>=2022.7 in /usr/local/lib/python3.10/dist-packages (from pandas>=1.1.4->ultralytics) (2024.2)\n",
            "Requirement already satisfied: charset-normalizer<4,>=2 in /usr/local/lib/python3.10/dist-packages (from requests>=2.23.0->ultralytics) (3.4.0)\n",
            "Requirement already satisfied: idna<4,>=2.5 in /usr/local/lib/python3.10/dist-packages (from requests>=2.23.0->ultralytics) (3.10)\n",
            "Requirement already satisfied: urllib3<3,>=1.21.1 in /usr/local/lib/python3.10/dist-packages (from requests>=2.23.0->ultralytics) (2.2.3)\n",
            "Requirement already satisfied: certifi>=2017.4.17 in /usr/local/lib/python3.10/dist-packages (from requests>=2.23.0->ultralytics) (2024.8.30)\n",
            "Requirement already satisfied: filelock in /usr/local/lib/python3.10/dist-packages (from torch>=1.8.0->ultralytics) (3.16.1)\n",
            "Requirement already satisfied: typing-extensions>=4.8.0 in /usr/local/lib/python3.10/dist-packages (from torch>=1.8.0->ultralytics) (4.12.2)\n",
            "Requirement already satisfied: networkx in /usr/local/lib/python3.10/dist-packages (from torch>=1.8.0->ultralytics) (3.4.2)\n",
            "Requirement already satisfied: jinja2 in /usr/local/lib/python3.10/dist-packages (from torch>=1.8.0->ultralytics) (3.1.4)\n",
            "Requirement already satisfied: fsspec in /usr/local/lib/python3.10/dist-packages (from torch>=1.8.0->ultralytics) (2024.10.0)\n",
            "Requirement already satisfied: sympy==1.13.1 in /usr/local/lib/python3.10/dist-packages (from torch>=1.8.0->ultralytics) (1.13.1)\n",
            "Requirement already satisfied: mpmath<1.4,>=1.1.0 in /usr/local/lib/python3.10/dist-packages (from sympy==1.13.1->torch>=1.8.0->ultralytics) (1.3.0)\n",
            "Requirement already satisfied: six>=1.5 in /usr/local/lib/python3.10/dist-packages (from python-dateutil>=2.7->matplotlib>=3.3.0->ultralytics) (1.16.0)\n",
            "Requirement already satisfied: MarkupSafe>=2.0 in /usr/local/lib/python3.10/dist-packages (from jinja2->torch>=1.8.0->ultralytics) (3.0.2)\n",
            "Downloading ultralytics-8.3.38-py3-none-any.whl (896 kB)\n",
            "\u001b[2K   \u001b[90m━━━━━━━━━━━━━━━━━━━━━━━━━━━━━━━━━━━━━━━━\u001b[0m \u001b[32m896.3/896.3 kB\u001b[0m \u001b[31m28.5 MB/s\u001b[0m eta \u001b[36m0:00:00\u001b[0m\n",
            "\u001b[?25hDownloading ultralytics_thop-2.0.12-py3-none-any.whl (26 kB)\n",
            "Installing collected packages: ultralytics-thop, ultralytics\n",
            "Successfully installed ultralytics-8.3.38 ultralytics-thop-2.0.12\n"
          ]
        }
      ],
      "source": [
        "pip install ultralytics"
      ]
    },
    {
      "cell_type": "code",
      "source": [
        "from google.colab import drive\n",
        "drive.mount('/content/drive')"
      ],
      "metadata": {
        "colab": {
          "base_uri": "https://localhost:8080/"
        },
        "id": "N69Zs8GHGJh_",
        "outputId": "c7e3dfa2-99f3-41e6-96ff-5c6b0685f5df"
      },
      "execution_count": null,
      "outputs": [
        {
          "output_type": "stream",
          "name": "stdout",
          "text": [
            "Mounted at /content/drive\n"
          ]
        }
      ]
    },
    {
      "cell_type": "code",
      "source": [
        "import os\n",
        "import glob\n",
        "import cv2\n",
        "import pandas as pd\n",
        "import numpy as np\n",
        "import shutil\n",
        "from sklearn.model_selection import train_test_split\n",
        "from ultralytics import YOLO"
      ],
      "metadata": {
        "id": "ciD3AR9vjuOi",
        "colab": {
          "base_uri": "https://localhost:8080/"
        },
        "outputId": "39b12a99-b591-4768-c29a-5922a7ad6636"
      },
      "execution_count": null,
      "outputs": [
        {
          "output_type": "stream",
          "name": "stdout",
          "text": [
            "Creating new Ultralytics Settings v0.0.6 file ✅ \n",
            "View Ultralytics Settings with 'yolo settings' or at '/root/.config/Ultralytics/settings.json'\n",
            "Update Settings with 'yolo settings key=value', i.e. 'yolo settings runs_dir=path/to/dir'. For help see https://docs.ultralytics.com/quickstart/#ultralytics-settings.\n"
          ]
        }
      ]
    },
    {
      "cell_type": "code",
      "source": [
        "# Paths\n",
        "base_dir = '/content/drive/My Drive/CV 2'\n",
        "candidate_gt_path = os.path.join(base_dir, 'Candidate_Set', 'Candidate_Groundtruth.xlsx')\n",
        "query_gt_path = os.path.join(base_dir, 'Query_Set', 'query_groundtruth.xlsx')\n",
        "candidate_image_dir = os.path.join(base_dir, 'Candidate_Set', 'Candidate_Images_Selected_500')\n",
        "query_image_dir = os.path.join(base_dir, 'Query_Set', 'Query_Images')\n",
        "\n",
        "# New dataset structure\n",
        "output_dir = '/content/drive/My Drive/CV Final/Dataset_augment_50'\n",
        "os.makedirs(output_dir, exist_ok=True)\n",
        "image_train_dir = os.path.join(output_dir, 'images', 'train')\n",
        "image_val_dir = os.path.join(output_dir, 'images', 'val')\n",
        "label_train_dir = os.path.join(output_dir, 'labels', 'train')\n",
        "label_val_dir = os.path.join(output_dir, 'labels', 'val')\n",
        "for path in [image_train_dir, image_val_dir, label_train_dir, label_val_dir]:\n",
        "    os.makedirs(path, exist_ok=True)\n"
      ],
      "metadata": {
        "id": "2QMzjkh3j77F"
      },
      "execution_count": null,
      "outputs": []
    },
    {
      "cell_type": "code",
      "source": [
        "candidate_gt = pd.read_excel(candidate_gt_path)\n",
        "query_gt = pd.read_excel(query_gt_path)\n"
      ],
      "metadata": {
        "id": "uSdDJH-LkGT-"
      },
      "execution_count": null,
      "outputs": []
    },
    {
      "cell_type": "code",
      "source": [
        "# Helper Function to Remove White Pixels and Create Accurate Masks\n",
        "def remove_white_pixels(img):\n",
        "    gray = cv2.cvtColor(img, cv2.COLOR_BGR2GRAY)\n",
        "    _, thresh = cv2.threshold(gray, 240, 255, cv2.THRESH_BINARY_INV)\n",
        "    mask = cv2.bitwise_and(img, img, mask=thresh)\n",
        "    return mask\n",
        "\n",
        "# Generate Bounding Boxes Based on Masks\n",
        "def generate_bounding_boxes(mask):\n",
        "    gray = cv2.cvtColor(mask, cv2.COLOR_BGR2GRAY)\n",
        "    contours, _ = cv2.findContours(gray, cv2.RETR_EXTERNAL, cv2.CHAIN_APPROX_SIMPLE)\n",
        "    boxes = [cv2.boundingRect(c) for c in contours]  # (x, y, w, h)\n",
        "    return boxes"
      ],
      "metadata": {
        "id": "F3gfGz8FkHYI"
      },
      "execution_count": null,
      "outputs": []
    },
    {
      "cell_type": "code",
      "source": [
        "def map_top_classes(df_list, image_dir, top_n=50):\n",
        "    class_image_counts = {}\n",
        "\n",
        "    for filename in os.listdir(image_dir):\n",
        "        class_id = filename.split('_')[0]\n",
        "        class_image_counts[class_id] = class_image_counts.get(class_id, 0) + 1\n",
        "\n",
        "    top_classes = sorted(class_image_counts.items(), key=lambda x: x[1], reverse=True)[:top_n]\n",
        "    top_class_ids = {cls for cls, _ in top_classes}\n",
        "\n",
        "    class_mapping = {cls: idx for idx, cls in enumerate(sorted(top_class_ids))}\n",
        "\n",
        "    for df in df_list:\n",
        "      df['Product ID'] = df['Product ID'].astype(str).str.zfill(7)\n",
        "\n",
        "      # Apply the mapping to the 'Product ID' column\n",
        "      df['MappedProductID'] = df['Product ID'].apply(lambda x: class_mapping.get(x, -1))  # Map to -1 if not in top classes\n",
        "      df = df[df['MappedProductID'] != -1]\n",
        "\n",
        "    return class_mapping, df\n",
        "\n"
      ],
      "metadata": {
        "id": "V6nPmG40kKJf"
      },
      "execution_count": null,
      "outputs": []
    },
    {
      "cell_type": "code",
      "source": [
        "class_mapping, df1 = map_top_classes([candidate_gt, query_gt], candidate_image_dir, top_n=50)\n",
        "print(\"Top 50 Class Mapping:\", class_mapping)"
      ],
      "metadata": {
        "colab": {
          "base_uri": "https://localhost:8080/"
        },
        "id": "7tkpKhtikMZx",
        "outputId": "b8f6bf84-78e2-4353-a9d0-064ad2cc3fe5"
      },
      "execution_count": null,
      "outputs": [
        {
          "output_type": "stream",
          "name": "stdout",
          "text": [
            "Top 50 Class Mapping: {'0000059': 0, '0000133': 1, '0000919': 2, '0022236': 3, '0025619': 4, '0025684': 5, '0025700': 6, '0025833': 7, '0025858': 8, '0025965': 9, '0026062': 10, '0028852': 11, '0039461': 12, '0039487': 13, '0039545': 14, '0357780': 15, '0358515': 16, '0523050': 17, '1030030': 18, '1130475': 19, '1202290': 20, '1237684': 21, '1320605': 22, '1519156': 23, '1795079': 24, '1830363': 25, '1883321': 26, '1883339': 27, '1883545': 28, '1934991': 29, '1942689': 30, '2065670': 31, '2151785': 32, '2196459': 33, '2349637': 34, '2350072': 35, '2393767': 36, '2436681': 37, '2524361': 38, '2524387': 39, '2619351': 40, '2619369': 41, '2619377': 42, '2685410': 43, '2692499': 44, '3013703': 45, '3300779': 46, '3300795': 47, '3300829': 48, '3302965': 49}\n"
          ]
        }
      ]
    },
    {
      "cell_type": "code",
      "source": [
        "# Data Augmentation Functions\n",
        "def horizontal_flip(image):\n",
        "    return cv2.flip(image, 1)\n",
        "\n",
        "def rotate_image(image, angle):\n",
        "    h, w = image.shape[:2]\n",
        "    center = (w // 2, h // 2)\n",
        "    matrix = cv2.getRotationMatrix2D(center, angle, 1.0)\n",
        "    return cv2.warpAffine(image, matrix, (w, h))\n",
        "\n",
        "def blur_image(image, ksize=5):\n",
        "    return cv2.GaussianBlur(image, (ksize, ksize), 0)\n",
        "\n",
        "def random_crop(image, crop_size=(400, 400)):\n",
        "    h, w = image.shape[:2]\n",
        "    crop_h, crop_w = crop_size\n",
        "    if h < crop_h or w < crop_w:\n",
        "        return image\n",
        "    x = np.random.randint(0, w - crop_w + 1)\n",
        "    y = np.random.randint(0, h - crop_h + 1)\n",
        "    return image[y:y + crop_h, x:x + crop_w]\n",
        "\n",
        "def shear_image(image, shear_factor):\n",
        "    h, w = image.shape[:2]\n",
        "    M = np.array([[1, shear_factor, 0], [0, 1, 0]], dtype=np.float32)\n",
        "    return cv2.warpAffine(image, M, (w, h))\n",
        "\n",
        "def to_gray(image):\n",
        "    return cv2.cvtColor(image, cv2.COLOR_BGR2GRAY)\n",
        "\n",
        "def adjust_brightness_contrast(image, alpha=1.0, beta=0):\n",
        "    return cv2.convertScaleAbs(image, alpha=alpha, beta=beta)\n",
        "\n",
        "def add_gaussian_noise(image, mean=0, std=10):\n",
        "    noise = np.random.normal(mean, std, image.shape).astype(np.uint8)\n",
        "    return cv2.add(image, noise)\n",
        "\n",
        "def coarse_dropout(image, max_holes=5, max_size=50):\n",
        "    h, w = image.shape[:2]\n",
        "    for _ in range(max_holes):\n",
        "        x = np.random.randint(0, w)\n",
        "        y = np.random.randint(0, h)\n",
        "        x1 = np.clip(x - max_size // 2, 0, w)\n",
        "        x2 = np.clip(x + max_size // 2, 0, w)\n",
        "        y1 = np.clip(y - max_size // 2, 0, h)\n",
        "        y2 = np.clip(y + max_size // 2, 0, h)\n",
        "        image[y1:y2, x1:x2] = 0\n",
        "    return image\n",
        "\n",
        "# List of augmentations\n",
        "augmentations = [\n",
        "    horizontal_flip,\n",
        "    lambda img: rotate_image(img, angle=30),\n",
        "    lambda img: blur_image(img, ksize=5),\n",
        "    lambda img: random_crop(img, crop_size=(400, 400)),\n",
        "    lambda img: shear_image(img, shear_factor=0.2),\n",
        "    to_gray,\n",
        "    lambda img: adjust_brightness_contrast(img, alpha=1.2, beta=30),\n",
        "    lambda img: add_gaussian_noise(img, mean=0, std=20),\n",
        "    lambda img: coarse_dropout(img, max_holes=5, max_size=30),\n",
        "]"
      ],
      "metadata": {
        "id": "gtjnsI4pm4ev"
      },
      "execution_count": null,
      "outputs": []
    },
    {
      "cell_type": "code",
      "source": [
        "def create_yolo_annotations_with_masks(\n",
        "    df, image_dir, output_image_dir, output_label_dir, class_mapping, augment=True\n",
        "):\n",
        "\n",
        "    os.makedirs(output_image_dir, exist_ok=True)\n",
        "    os.makedirs(output_label_dir, exist_ok=True)\n",
        "\n",
        "    for _, row in df.iterrows():\n",
        "        product_id = str(row['Product ID']).zfill(7)  # Ensure zero-padding for comparison\n",
        "        class_id = row['MappedProductID']\n",
        "\n",
        "        # Skip if class_id is not in the selected top 50\n",
        "        if class_id not in class_mapping.values():\n",
        "            continue\n",
        "\n",
        "        # Get all images for the current product ID\n",
        "        image_pattern = os.path.join(image_dir, f\"{product_id}_*.jpg\")\n",
        "        image_files = glob.glob(image_pattern)\n",
        "        if not image_files:\n",
        "            print(f\"No images found for Product ID: {product_id}\")\n",
        "            continue\n",
        "\n",
        "        for img_path in image_files:\n",
        "            img = cv2.imread(img_path)\n",
        "            if img is None:\n",
        "                continue\n",
        "\n",
        "            img = cv2.resize(img, (640, 640))\n",
        "\n",
        "            # Remove white pixels and create a mask\n",
        "            mask = remove_white_pixels(img)\n",
        "\n",
        "            # Generate bounding boxes from the mask\n",
        "            boxes = generate_bounding_boxes(mask)\n",
        "\n",
        "            # Skip if no bounding boxes were generated\n",
        "            if not boxes:\n",
        "                continue\n",
        "\n",
        "            # Save the original image\n",
        "            image_name = os.path.basename(img_path)\n",
        "            output_img_path = os.path.join(output_image_dir, image_name)\n",
        "            cv2.imwrite(output_img_path, img)\n",
        "\n",
        "            # Create a corresponding YOLO label file\n",
        "            label_name = os.path.splitext(image_name)[0] + '.txt'\n",
        "            label_path = os.path.join(output_label_dir, label_name)\n",
        "            with open(label_path, 'w') as label_file:\n",
        "                for box in boxes:\n",
        "                    x, y, w, h = box\n",
        "                    x_center = (x + w / 2) / 640\n",
        "                    y_center = (y + h / 2) / 640\n",
        "                    width = w / 640\n",
        "                    height = h / 640\n",
        "                    label_file.write(f\"{class_id} {x_center} {y_center} {width} {height}\\n\")\n",
        "\n",
        "            # Apply augmentations\n",
        "            if augment:\n",
        "                for i, aug in enumerate(augmentations):\n",
        "                    try:\n",
        "                        aug_img = aug(img)  # Apply augmentation\n",
        "                        aug_img_name = f\"{os.path.splitext(image_name)[0]}_aug_{i}.jpg\"\n",
        "                        aug_img_path = os.path.join(output_image_dir, aug_img_name)\n",
        "                        cv2.imwrite(aug_img_path, aug_img)\n",
        "\n",
        "                        # Create a corresponding YOLO label file for the augmented image\n",
        "                        aug_label_name = f\"{os.path.splitext(image_name)[0]}_aug_{i}.txt\"\n",
        "                        aug_label_path = os.path.join(output_label_dir, aug_label_name)\n",
        "                        with open(aug_label_path, 'w') as aug_label_file:\n",
        "                            for box in boxes:\n",
        "                                x, y, w, h = box\n",
        "                                x_center = (x + w / 2) / 640\n",
        "                                y_center = (y + h / 2) / 640\n",
        "                                width = w / 640\n",
        "                                height = h / 640\n",
        "                                aug_label_file.write(f\"{class_id} {x_center} {y_center} {width} {height}\\n\")\n",
        "                    except Exception as e:\n",
        "                        print(f\"Augmentation failed for {image_name} with error: {e}\")\n",
        "\n",
        "# Process candidate and query datasets\n",
        "create_yolo_annotations_with_masks(\n",
        "    candidate_gt, candidate_image_dir, image_train_dir, label_train_dir, class_mapping\n",
        ")\n",
        "create_yolo_annotations_with_masks(\n",
        "    query_gt, query_image_dir, image_val_dir, label_val_dir, class_mapping\n",
        ")\n"
      ],
      "metadata": {
        "colab": {
          "base_uri": "https://localhost:8080/"
        },
        "id": "uJTGO9sjlxGI",
        "outputId": "1b3bab72-73c8-425b-9ea1-587924d3b72a",
        "collapsed": true
      },
      "execution_count": null,
      "outputs": [
        {
          "output_type": "stream",
          "name": "stdout",
          "text": [
            "No images found for Product ID: 0025684\n",
            "No images found for Product ID: 0025684\n",
            "No images found for Product ID: 0025684\n",
            "No images found for Product ID: 0025684\n",
            "No images found for Product ID: 0025700\n",
            "No images found for Product ID: 0025700\n",
            "No images found for Product ID: 0025700\n",
            "No images found for Product ID: 0025700\n",
            "No images found for Product ID: 0026062\n",
            "No images found for Product ID: 0026062\n",
            "No images found for Product ID: 0026062\n",
            "No images found for Product ID: 0026062\n",
            "No images found for Product ID: 0028852\n",
            "No images found for Product ID: 0028852\n",
            "No images found for Product ID: 0028852\n",
            "No images found for Product ID: 0028852\n",
            "No images found for Product ID: 0039461\n",
            "No images found for Product ID: 0039461\n",
            "No images found for Product ID: 0039461\n",
            "No images found for Product ID: 0039461\n",
            "No images found for Product ID: 0039487\n",
            "No images found for Product ID: 0039487\n",
            "No images found for Product ID: 0039487\n",
            "No images found for Product ID: 0039487\n",
            "No images found for Product ID: 0357780\n",
            "No images found for Product ID: 0357780\n",
            "No images found for Product ID: 0357780\n",
            "No images found for Product ID: 0357780\n",
            "No images found for Product ID: 1030030\n",
            "No images found for Product ID: 1030030\n",
            "No images found for Product ID: 1030030\n",
            "No images found for Product ID: 1030030\n",
            "No images found for Product ID: 2151785\n",
            "No images found for Product ID: 2151785\n",
            "No images found for Product ID: 2151785\n",
            "No images found for Product ID: 2151785\n",
            "No images found for Product ID: 2393767\n",
            "No images found for Product ID: 2393767\n",
            "No images found for Product ID: 2393767\n",
            "No images found for Product ID: 2393767\n",
            "No images found for Product ID: 2619351\n",
            "No images found for Product ID: 2619351\n",
            "No images found for Product ID: 2619351\n",
            "No images found for Product ID: 2619351\n",
            "No images found for Product ID: 2619369\n",
            "No images found for Product ID: 2619369\n",
            "No images found for Product ID: 2619369\n",
            "No images found for Product ID: 2619369\n",
            "No images found for Product ID: 2619377\n",
            "No images found for Product ID: 2619377\n",
            "No images found for Product ID: 2619377\n",
            "No images found for Product ID: 2619377\n",
            "No images found for Product ID: 2692499\n",
            "No images found for Product ID: 2692499\n",
            "No images found for Product ID: 2692499\n",
            "No images found for Product ID: 2692499\n"
          ]
        }
      ]
    },
    {
      "cell_type": "code",
      "source": [
        "def filter_images_by_classes(image_dir, label_dir, class_mapping):\n",
        "    image_files = glob.glob(f\"{image_dir}/*.jpg\")\n",
        "    filtered_images = []\n",
        "\n",
        "    for img_path in image_files:\n",
        "        image_name = os.path.basename(img_path)\n",
        "        label_path = os.path.splitext(img_path.replace(image_dir, label_dir))[0] + '.txt'\n",
        "\n",
        "        # Extract the product ID from the image name\n",
        "        product_id = image_name.split('_')[0]\n",
        "\n",
        "        if product_id in class_mapping:\n",
        "            filtered_images.append((img_path, label_path))\n",
        "\n",
        "    return filtered_images\n",
        "\n",
        "\n",
        "def split_and_move_files(filtered_images, image_train_dir, label_train_dir, image_val_dir, label_val_dir):\n",
        "    train_files, val_files = train_test_split(filtered_images, test_size=0.2, random_state=42)\n",
        "\n",
        "    # Move validation images and labels to the validation folder\n",
        "    for img_path, label_path in val_files:\n",
        "        # Move image\n",
        "        val_file_name = os.path.basename(img_path)\n",
        "        dest_image_path = os.path.join(image_val_dir, val_file_name)\n",
        "\n",
        "        if os.path.exists(dest_image_path):\n",
        "            base_name, ext = os.path.splitext(val_file_name)\n",
        "            dest_image_path = os.path.join(image_val_dir, f\"{base_name}_conflict{ext}\")\n",
        "\n",
        "        shutil.move(img_path, dest_image_path)\n",
        "\n",
        "        # Move corresponding label file\n",
        "        label_file_name = os.path.basename(label_path)\n",
        "        dest_label_path = os.path.join(label_val_dir, label_file_name)\n",
        "\n",
        "        if os.path.exists(dest_label_path):\n",
        "            base_name, ext = os.path.splitext(label_file_name)\n",
        "            dest_label_path = os.path.join(label_val_dir, f\"{base_name}_conflict{ext}\")\n",
        "\n",
        "        shutil.move(label_path, dest_label_path)\n",
        "\n",
        "    # Move training images and labels to the training folder\n",
        "    for img_path, label_path in train_files:\n",
        "        # Move image\n",
        "        train_file_name = os.path.basename(img_path)\n",
        "        dest_image_path = os.path.join(image_train_dir, train_file_name)\n",
        "\n",
        "        if os.path.exists(dest_image_path):\n",
        "            base_name, ext = os.path.splitext(train_file_name)\n",
        "            dest_image_path = os.path.join(image_train_dir, f\"{base_name}_conflict{ext}\")\n",
        "\n",
        "        shutil.move(img_path, dest_image_path)\n",
        "\n",
        "        # Move corresponding label file\n",
        "        label_file_name = os.path.basename(label_path)\n",
        "        dest_label_path = os.path.join(label_train_dir, label_file_name)\n",
        "\n",
        "        if os.path.exists(dest_label_path):\n",
        "            base_name, ext = os.path.splitext(label_file_name)\n",
        "            dest_label_path = os.path.join(label_train_dir, f\"{base_name}_conflict{ext}\")\n",
        "\n",
        "        shutil.move(label_path, dest_label_path)\n",
        "\n",
        "\n",
        "filtered_images = filter_images_by_classes(image_train_dir, label_train_dir, class_mapping)\n",
        "\n",
        "split_and_move_files(filtered_images, image_train_dir, label_train_dir, image_val_dir, label_val_dir)\n"
      ],
      "metadata": {
        "id": "a3DKkr7EqVW8"
      },
      "execution_count": null,
      "outputs": []
    },
    {
      "cell_type": "code",
      "source": [
        "import yaml\n",
        "\n",
        "# Convert class_mapping to ensure keys and values are strings\n",
        "class_mapping_str = {str(k): str(v) for k, v in class_mapping.items()}\n",
        "yolo_data_config_path = os.path.join(base_dir, 'yolo_data_config.yaml')\n",
        "\n",
        "data_config = {\n",
        "    'train': image_train_dir,\n",
        "    'val': image_val_dir,\n",
        "    'nc': len(class_mapping_str),\n",
        "    'names': list(class_mapping_str.keys())\n",
        "}\n",
        "\n",
        "# YAML File\n",
        "with open(yolo_data_config_path, 'w') as file:\n",
        "    yaml.dump(data_config, file, default_flow_style=False)\n"
      ],
      "metadata": {
        "id": "wps8swfwxAJ4"
      },
      "execution_count": null,
      "outputs": []
    },
    {
      "cell_type": "code",
      "source": [
        "model1 = YOLO('yolov8n.pt')\n",
        "\n",
        "# Training\n",
        "model1.train(\n",
        "    data=yolo_data_config_path,\n",
        "    epochs=50,\n",
        "    imgsz=256,\n",
        "    batch=8,\n",
        "    cache=False,\n",
        "    save_dir='/content/runs/detect/train4',\n",
        ")\n",
        "\n",
        "print(\"Training completed! Check results in:\", '/content/runs/detect/train4')\n"
      ],
      "metadata": {
        "colab": {
          "base_uri": "https://localhost:8080/"
        },
        "id": "XD5-qtFcxmnd",
        "outputId": "d1231aa8-417e-489b-921e-d5faaf54e71d"
      },
      "execution_count": null,
      "outputs": [
        {
          "output_type": "stream",
          "name": "stdout",
          "text": [
            "Downloading https://github.com/ultralytics/assets/releases/download/v8.3.0/yolov8n.pt to 'yolov8n.pt'...\n"
          ]
        },
        {
          "output_type": "stream",
          "name": "stderr",
          "text": [
            "100%|██████████| 6.25M/6.25M [00:00<00:00, 77.3MB/s]\n"
          ]
        },
        {
          "output_type": "stream",
          "name": "stdout",
          "text": [
            "Ultralytics 8.3.37 🚀 Python-3.10.12 torch-2.5.1+cu121 CUDA:0 (Tesla T4, 15102MiB)\n",
            "\u001b[34m\u001b[1mengine/trainer: \u001b[0mtask=detect, mode=train, model=yolov8n.pt, data=/content/drive/My Drive/CV 2/yolo_data_config.yaml, epochs=50, time=None, patience=100, batch=8, imgsz=256, save=True, save_period=-1, cache=False, device=None, workers=8, project=None, name=train, exist_ok=False, pretrained=True, optimizer=auto, verbose=True, seed=0, deterministic=True, single_cls=False, rect=False, cos_lr=False, close_mosaic=10, resume=False, amp=True, fraction=1.0, profile=False, freeze=None, multi_scale=False, overlap_mask=True, mask_ratio=4, dropout=0.0, val=True, split=val, save_json=False, save_hybrid=False, conf=None, iou=0.7, max_det=300, half=False, dnn=False, plots=True, source=None, vid_stride=1, stream_buffer=False, visualize=False, augment=False, agnostic_nms=False, classes=None, retina_masks=False, embed=None, show=False, save_frames=False, save_txt=False, save_conf=False, save_crop=False, show_labels=True, show_conf=True, show_boxes=True, line_width=None, format=torchscript, keras=False, optimize=False, int8=False, dynamic=False, simplify=True, opset=None, workspace=None, nms=False, lr0=0.01, lrf=0.01, momentum=0.937, weight_decay=0.0005, warmup_epochs=3.0, warmup_momentum=0.8, warmup_bias_lr=0.1, box=7.5, cls=0.5, dfl=1.5, pose=12.0, kobj=1.0, label_smoothing=0.0, nbs=64, hsv_h=0.015, hsv_s=0.7, hsv_v=0.4, degrees=0.0, translate=0.1, scale=0.5, shear=0.0, perspective=0.0, flipud=0.0, fliplr=0.5, bgr=0.0, mosaic=1.0, mixup=0.0, copy_paste=0.0, copy_paste_mode=flip, auto_augment=randaugment, erasing=0.4, crop_fraction=1.0, cfg=None, tracker=botsort.yaml, save_dir=runs/detect/train\n",
            "Downloading https://ultralytics.com/assets/Arial.ttf to '/root/.config/Ultralytics/Arial.ttf'...\n"
          ]
        },
        {
          "output_type": "stream",
          "name": "stderr",
          "text": [
            "100%|██████████| 755k/755k [00:00<00:00, 17.6MB/s]\n"
          ]
        },
        {
          "output_type": "stream",
          "name": "stdout",
          "text": [
            "Overriding model.yaml nc=80 with nc=50\n",
            "\n",
            "                   from  n    params  module                                       arguments                     \n",
            "  0                  -1  1       464  ultralytics.nn.modules.conv.Conv             [3, 16, 3, 2]                 \n",
            "  1                  -1  1      4672  ultralytics.nn.modules.conv.Conv             [16, 32, 3, 2]                \n",
            "  2                  -1  1      7360  ultralytics.nn.modules.block.C2f             [32, 32, 1, True]             \n",
            "  3                  -1  1     18560  ultralytics.nn.modules.conv.Conv             [32, 64, 3, 2]                \n",
            "  4                  -1  2     49664  ultralytics.nn.modules.block.C2f             [64, 64, 2, True]             \n",
            "  5                  -1  1     73984  ultralytics.nn.modules.conv.Conv             [64, 128, 3, 2]               \n",
            "  6                  -1  2    197632  ultralytics.nn.modules.block.C2f             [128, 128, 2, True]           \n",
            "  7                  -1  1    295424  ultralytics.nn.modules.conv.Conv             [128, 256, 3, 2]              \n",
            "  8                  -1  1    460288  ultralytics.nn.modules.block.C2f             [256, 256, 1, True]           \n",
            "  9                  -1  1    164608  ultralytics.nn.modules.block.SPPF            [256, 256, 5]                 \n",
            " 10                  -1  1         0  torch.nn.modules.upsampling.Upsample         [None, 2, 'nearest']          \n",
            " 11             [-1, 6]  1         0  ultralytics.nn.modules.conv.Concat           [1]                           \n",
            " 12                  -1  1    148224  ultralytics.nn.modules.block.C2f             [384, 128, 1]                 \n",
            " 13                  -1  1         0  torch.nn.modules.upsampling.Upsample         [None, 2, 'nearest']          \n",
            " 14             [-1, 4]  1         0  ultralytics.nn.modules.conv.Concat           [1]                           \n",
            " 15                  -1  1     37248  ultralytics.nn.modules.block.C2f             [192, 64, 1]                  \n",
            " 16                  -1  1     36992  ultralytics.nn.modules.conv.Conv             [64, 64, 3, 2]                \n",
            " 17            [-1, 12]  1         0  ultralytics.nn.modules.conv.Concat           [1]                           \n",
            " 18                  -1  1    123648  ultralytics.nn.modules.block.C2f             [192, 128, 1]                 \n",
            " 19                  -1  1    147712  ultralytics.nn.modules.conv.Conv             [128, 128, 3, 2]              \n",
            " 20             [-1, 9]  1         0  ultralytics.nn.modules.conv.Concat           [1]                           \n",
            " 21                  -1  1    493056  ultralytics.nn.modules.block.C2f             [384, 256, 1]                 \n",
            " 22        [15, 18, 21]  1    761062  ultralytics.nn.modules.head.Detect           [50, [64, 128, 256]]          \n",
            "Model summary: 225 layers, 3,020,598 parameters, 3,020,582 gradients, 8.2 GFLOPs\n",
            "\n",
            "Transferred 319/355 items from pretrained weights\n",
            "\u001b[34m\u001b[1mTensorBoard: \u001b[0mStart with 'tensorboard --logdir runs/detect/train', view at http://localhost:6006/\n",
            "Freezing layer 'model.22.dfl.conv.weight'\n",
            "\u001b[34m\u001b[1mAMP: \u001b[0mrunning Automatic Mixed Precision (AMP) checks...\n",
            "Downloading https://github.com/ultralytics/assets/releases/download/v8.3.0/yolo11n.pt to 'yolo11n.pt'...\n"
          ]
        },
        {
          "output_type": "stream",
          "name": "stderr",
          "text": [
            "100%|██████████| 5.35M/5.35M [00:00<00:00, 92.4MB/s]\n"
          ]
        },
        {
          "output_type": "stream",
          "name": "stdout",
          "text": [
            "\u001b[34m\u001b[1mAMP: \u001b[0mchecks passed ✅\n"
          ]
        },
        {
          "output_type": "stream",
          "name": "stderr",
          "text": [
            "\u001b[34m\u001b[1mtrain: \u001b[0mScanning /content/drive/My Drive/CV Final/Dataset_augment_50/labels/train... 1760 images, 0 backgrounds, 0 corrupt: 100%|██████████| 1760/1760 [00:18<00:00, 96.74it/s] \n"
          ]
        },
        {
          "output_type": "stream",
          "name": "stdout",
          "text": [
            "\u001b[34m\u001b[1mtrain: \u001b[0mNew cache created: /content/drive/My Drive/CV Final/Dataset_augment_50/labels/train.cache\n",
            "\u001b[34m\u001b[1malbumentations: \u001b[0mBlur(p=0.01, blur_limit=(3, 7)), MedianBlur(p=0.01, blur_limit=(3, 7)), ToGray(p=0.01, num_output_channels=3, method='weighted_average'), CLAHE(p=0.01, clip_limit=(1.0, 4.0), tile_grid_size=(8, 8))\n"
          ]
        },
        {
          "output_type": "stream",
          "name": "stderr",
          "text": [
            "/usr/local/lib/python3.10/dist-packages/albumentations/__init__.py:24: UserWarning: A new version of Albumentations is available: 1.4.21 (you have 1.4.20). Upgrade using: pip install -U albumentations. To disable automatic update checks, set the environment variable NO_ALBUMENTATIONS_UPDATE to 1.\n",
            "  check_for_updates()\n",
            "\u001b[34m\u001b[1mval: \u001b[0mScanning /content/drive/My Drive/CV Final/Dataset_augment_50/labels/val... 440 images, 0 backgrounds, 0 corrupt: 100%|██████████| 440/440 [00:06<00:00, 70.52it/s] \n"
          ]
        },
        {
          "output_type": "stream",
          "name": "stdout",
          "text": [
            "\u001b[34m\u001b[1mval: \u001b[0mNew cache created: /content/drive/My Drive/CV Final/Dataset_augment_50/labels/val.cache\n",
            "Plotting labels to runs/detect/train/labels.jpg... \n",
            "\u001b[34m\u001b[1moptimizer:\u001b[0m 'optimizer=auto' found, ignoring 'lr0=0.01' and 'momentum=0.937' and determining best 'optimizer', 'lr0' and 'momentum' automatically... \n",
            "\u001b[34m\u001b[1moptimizer:\u001b[0m AdamW(lr=0.000185, momentum=0.9) with parameter groups 57 weight(decay=0.0), 64 weight(decay=0.0005), 63 bias(decay=0.0)\n",
            "\u001b[34m\u001b[1mTensorBoard: \u001b[0mmodel graph visualization added ✅\n",
            "Image sizes 256 train, 256 val\n",
            "Using 2 dataloader workers\n",
            "Logging results to \u001b[1mruns/detect/train\u001b[0m\n",
            "Starting training for 50 epochs...\n",
            "\n",
            "      Epoch    GPU_mem   box_loss   cls_loss   dfl_loss  Instances       Size\n"
          ]
        },
        {
          "output_type": "stream",
          "name": "stderr",
          "text": [
            "       1/50     0.321G     0.9104      4.446      1.212         23        256: 100%|██████████| 220/220 [00:38<00:00,  5.73it/s]\n",
            "                 Class     Images  Instances      Box(P          R      mAP50  mAP50-95): 100%|██████████| 28/28 [00:05<00:00,  4.85it/s]"
          ]
        },
        {
          "output_type": "stream",
          "name": "stdout",
          "text": [
            "                   all        440       3441     0.0251      0.264     0.0282     0.0252\n"
          ]
        },
        {
          "output_type": "stream",
          "name": "stderr",
          "text": [
            "\n"
          ]
        },
        {
          "output_type": "stream",
          "name": "stdout",
          "text": [
            "\n",
            "      Epoch    GPU_mem   box_loss   cls_loss   dfl_loss  Instances       Size\n"
          ]
        },
        {
          "output_type": "stream",
          "name": "stderr",
          "text": [
            "       2/50     0.285G     0.8059      4.045      1.152         23        256: 100%|██████████| 220/220 [00:35<00:00,  6.18it/s]\n",
            "                 Class     Images  Instances      Box(P          R      mAP50  mAP50-95): 100%|██████████| 28/28 [00:05<00:00,  4.81it/s]\n"
          ]
        },
        {
          "output_type": "stream",
          "name": "stdout",
          "text": [
            "                   all        440       3441     0.0271      0.408     0.0635     0.0538\n",
            "\n",
            "      Epoch    GPU_mem   box_loss   cls_loss   dfl_loss  Instances       Size\n"
          ]
        },
        {
          "output_type": "stream",
          "name": "stderr",
          "text": [
            "       3/50     0.287G     0.8309      3.684      1.166         22        256: 100%|██████████| 220/220 [00:33<00:00,  6.51it/s]\n",
            "                 Class     Images  Instances      Box(P          R      mAP50  mAP50-95): 100%|██████████| 28/28 [00:06<00:00,  4.01it/s]"
          ]
        },
        {
          "output_type": "stream",
          "name": "stdout",
          "text": [
            "                   all        440       3441      0.431      0.158      0.108     0.0901\n"
          ]
        },
        {
          "output_type": "stream",
          "name": "stderr",
          "text": [
            "\n"
          ]
        },
        {
          "output_type": "stream",
          "name": "stdout",
          "text": [
            "\n",
            "      Epoch    GPU_mem   box_loss   cls_loss   dfl_loss  Instances       Size\n"
          ]
        },
        {
          "output_type": "stream",
          "name": "stderr",
          "text": [
            "       4/50     0.287G     0.8414      3.299      1.182         17        256: 100%|██████████| 220/220 [00:35<00:00,  6.26it/s]\n",
            "                 Class     Images  Instances      Box(P          R      mAP50  mAP50-95): 100%|██████████| 28/28 [00:04<00:00,  6.20it/s]"
          ]
        },
        {
          "output_type": "stream",
          "name": "stdout",
          "text": [
            "                   all        440       3441      0.212      0.291      0.176      0.153\n"
          ]
        },
        {
          "output_type": "stream",
          "name": "stderr",
          "text": [
            "\n"
          ]
        },
        {
          "output_type": "stream",
          "name": "stdout",
          "text": [
            "\n",
            "      Epoch    GPU_mem   box_loss   cls_loss   dfl_loss  Instances       Size\n"
          ]
        },
        {
          "output_type": "stream",
          "name": "stderr",
          "text": [
            "       5/50     0.287G     0.8733      2.978      1.201         20        256: 100%|██████████| 220/220 [00:36<00:00,  5.98it/s]\n",
            "                 Class     Images  Instances      Box(P          R      mAP50  mAP50-95): 100%|██████████| 28/28 [00:58<00:00,  2.07s/it]\n"
          ]
        },
        {
          "output_type": "stream",
          "name": "stdout",
          "text": [
            "                   all        440       3441      0.347      0.303      0.229      0.191\n",
            "\n",
            "      Epoch    GPU_mem   box_loss   cls_loss   dfl_loss  Instances       Size\n"
          ]
        },
        {
          "output_type": "stream",
          "name": "stderr",
          "text": [
            "       6/50     0.287G     0.8204      2.699      1.172         15        256: 100%|██████████| 220/220 [00:34<00:00,  6.43it/s]\n",
            "                 Class     Images  Instances      Box(P          R      mAP50  mAP50-95): 100%|██████████| 28/28 [00:04<00:00,  6.34it/s]\n"
          ]
        },
        {
          "output_type": "stream",
          "name": "stdout",
          "text": [
            "                   all        440       3441      0.284      0.323      0.238      0.209\n",
            "\n",
            "      Epoch    GPU_mem   box_loss   cls_loss   dfl_loss  Instances       Size\n"
          ]
        },
        {
          "output_type": "stream",
          "name": "stderr",
          "text": [
            "       7/50     0.287G     0.8018      2.525      1.161         24        256: 100%|██████████| 220/220 [00:33<00:00,  6.57it/s]\n",
            "                 Class     Images  Instances      Box(P          R      mAP50  mAP50-95): 100%|██████████| 28/28 [00:05<00:00,  4.86it/s]"
          ]
        },
        {
          "output_type": "stream",
          "name": "stdout",
          "text": [
            "                   all        440       3441      0.343      0.344      0.287      0.251\n"
          ]
        },
        {
          "output_type": "stream",
          "name": "stderr",
          "text": [
            "\n"
          ]
        },
        {
          "output_type": "stream",
          "name": "stdout",
          "text": [
            "\n",
            "      Epoch    GPU_mem   box_loss   cls_loss   dfl_loss  Instances       Size\n"
          ]
        },
        {
          "output_type": "stream",
          "name": "stderr",
          "text": [
            "       8/50     0.287G     0.7776      2.364      1.146         27        256: 100%|██████████| 220/220 [00:31<00:00,  7.00it/s]\n",
            "                 Class     Images  Instances      Box(P          R      mAP50  mAP50-95): 100%|██████████| 28/28 [00:06<00:00,  4.06it/s]"
          ]
        },
        {
          "output_type": "stream",
          "name": "stdout",
          "text": [
            "                   all        440       3441      0.406      0.369      0.334      0.291\n"
          ]
        },
        {
          "output_type": "stream",
          "name": "stderr",
          "text": [
            "\n"
          ]
        },
        {
          "output_type": "stream",
          "name": "stdout",
          "text": [
            "\n",
            "      Epoch    GPU_mem   box_loss   cls_loss   dfl_loss  Instances       Size\n"
          ]
        },
        {
          "output_type": "stream",
          "name": "stderr",
          "text": [
            "       9/50     0.287G     0.7656      2.194      1.139         25        256: 100%|██████████| 220/220 [00:31<00:00,  7.01it/s]\n",
            "                 Class     Images  Instances      Box(P          R      mAP50  mAP50-95): 100%|██████████| 28/28 [00:06<00:00,  4.47it/s]\n"
          ]
        },
        {
          "output_type": "stream",
          "name": "stdout",
          "text": [
            "                   all        440       3441      0.476      0.413      0.363      0.316\n",
            "\n",
            "      Epoch    GPU_mem   box_loss   cls_loss   dfl_loss  Instances       Size\n"
          ]
        },
        {
          "output_type": "stream",
          "name": "stderr",
          "text": [
            "      10/50     0.287G     0.7449      2.041      1.134         19        256: 100%|██████████| 220/220 [00:33<00:00,  6.58it/s]\n",
            "                 Class     Images  Instances      Box(P          R      mAP50  mAP50-95): 100%|██████████| 28/28 [00:04<00:00,  6.04it/s]\n"
          ]
        },
        {
          "output_type": "stream",
          "name": "stdout",
          "text": [
            "                   all        440       3441      0.584      0.415      0.386      0.336\n",
            "\n",
            "      Epoch    GPU_mem   box_loss   cls_loss   dfl_loss  Instances       Size\n"
          ]
        },
        {
          "output_type": "stream",
          "name": "stderr",
          "text": [
            "      11/50     0.287G     0.7223      1.962      1.121         26        256: 100%|██████████| 220/220 [00:34<00:00,  6.44it/s]\n",
            "                 Class     Images  Instances      Box(P          R      mAP50  mAP50-95): 100%|██████████| 28/28 [00:04<00:00,  6.55it/s]"
          ]
        },
        {
          "output_type": "stream",
          "name": "stdout",
          "text": [
            "                   all        440       3441       0.58      0.402      0.398       0.35\n"
          ]
        },
        {
          "output_type": "stream",
          "name": "stderr",
          "text": [
            "\n"
          ]
        },
        {
          "output_type": "stream",
          "name": "stdout",
          "text": [
            "\n",
            "      Epoch    GPU_mem   box_loss   cls_loss   dfl_loss  Instances       Size\n"
          ]
        },
        {
          "output_type": "stream",
          "name": "stderr",
          "text": [
            "      12/50     0.285G     0.7077      1.878      1.118         18        256: 100%|██████████| 220/220 [00:34<00:00,  6.45it/s]\n",
            "                 Class     Images  Instances      Box(P          R      mAP50  mAP50-95): 100%|██████████| 28/28 [00:04<00:00,  6.86it/s]"
          ]
        },
        {
          "output_type": "stream",
          "name": "stdout",
          "text": [
            "                   all        440       3441      0.662      0.414      0.416      0.364\n"
          ]
        },
        {
          "output_type": "stream",
          "name": "stderr",
          "text": [
            "\n"
          ]
        },
        {
          "output_type": "stream",
          "name": "stdout",
          "text": [
            "\n",
            "      Epoch    GPU_mem   box_loss   cls_loss   dfl_loss  Instances       Size\n"
          ]
        },
        {
          "output_type": "stream",
          "name": "stderr",
          "text": [
            "      13/50     0.287G     0.6886      1.807      1.095         20        256: 100%|██████████| 220/220 [00:34<00:00,  6.43it/s]\n",
            "                 Class     Images  Instances      Box(P          R      mAP50  mAP50-95): 100%|██████████| 28/28 [00:04<00:00,  6.87it/s]"
          ]
        },
        {
          "output_type": "stream",
          "name": "stdout",
          "text": [
            "                   all        440       3441      0.632      0.446      0.421       0.37\n"
          ]
        },
        {
          "output_type": "stream",
          "name": "stderr",
          "text": [
            "\n"
          ]
        },
        {
          "output_type": "stream",
          "name": "stdout",
          "text": [
            "\n",
            "      Epoch    GPU_mem   box_loss   cls_loss   dfl_loss  Instances       Size\n"
          ]
        },
        {
          "output_type": "stream",
          "name": "stderr",
          "text": [
            "      14/50     0.287G     0.6617      1.712      1.087         20        256: 100%|██████████| 220/220 [00:33<00:00,  6.63it/s]\n",
            "                 Class     Images  Instances      Box(P          R      mAP50  mAP50-95): 100%|██████████| 28/28 [00:05<00:00,  5.07it/s]\n"
          ]
        },
        {
          "output_type": "stream",
          "name": "stdout",
          "text": [
            "                   all        440       3441      0.624      0.445      0.425      0.374\n",
            "\n",
            "      Epoch    GPU_mem   box_loss   cls_loss   dfl_loss  Instances       Size\n"
          ]
        },
        {
          "output_type": "stream",
          "name": "stderr",
          "text": [
            "      15/50     0.287G     0.6652       1.64      1.085         24        256: 100%|██████████| 220/220 [00:32<00:00,  6.77it/s]\n",
            "                 Class     Images  Instances      Box(P          R      mAP50  mAP50-95): 100%|██████████| 28/28 [00:06<00:00,  4.48it/s]"
          ]
        },
        {
          "output_type": "stream",
          "name": "stdout",
          "text": [
            "                   all        440       3441      0.642      0.452      0.423      0.368\n"
          ]
        },
        {
          "output_type": "stream",
          "name": "stderr",
          "text": [
            "\n"
          ]
        },
        {
          "output_type": "stream",
          "name": "stdout",
          "text": [
            "\n",
            "      Epoch    GPU_mem   box_loss   cls_loss   dfl_loss  Instances       Size\n"
          ]
        },
        {
          "output_type": "stream",
          "name": "stderr",
          "text": [
            "      16/50     0.287G     0.6637      1.594      1.083         19        256: 100%|██████████| 220/220 [00:31<00:00,  6.90it/s]\n",
            "                 Class     Images  Instances      Box(P          R      mAP50  mAP50-95): 100%|██████████| 28/28 [00:07<00:00,  3.82it/s]"
          ]
        },
        {
          "output_type": "stream",
          "name": "stdout",
          "text": [
            "                   all        440       3441       0.63      0.457      0.432      0.373\n"
          ]
        },
        {
          "output_type": "stream",
          "name": "stderr",
          "text": [
            "\n"
          ]
        },
        {
          "output_type": "stream",
          "name": "stdout",
          "text": [
            "\n",
            "      Epoch    GPU_mem   box_loss   cls_loss   dfl_loss  Instances       Size\n"
          ]
        },
        {
          "output_type": "stream",
          "name": "stderr",
          "text": [
            "      17/50     0.287G     0.6451      1.544      1.069         19        256: 100%|██████████| 220/220 [00:37<00:00,  5.87it/s]\n",
            "                 Class     Images  Instances      Box(P          R      mAP50  mAP50-95): 100%|██████████| 28/28 [00:04<00:00,  5.92it/s]\n"
          ]
        },
        {
          "output_type": "stream",
          "name": "stdout",
          "text": [
            "                   all        440       3441      0.676      0.461      0.446      0.388\n",
            "\n",
            "      Epoch    GPU_mem   box_loss   cls_loss   dfl_loss  Instances       Size\n"
          ]
        },
        {
          "output_type": "stream",
          "name": "stderr",
          "text": [
            "      18/50     0.287G     0.6413      1.495      1.084         23        256: 100%|██████████| 220/220 [00:33<00:00,  6.50it/s]\n",
            "                 Class     Images  Instances      Box(P          R      mAP50  mAP50-95): 100%|██████████| 28/28 [00:04<00:00,  6.86it/s]\n"
          ]
        },
        {
          "output_type": "stream",
          "name": "stdout",
          "text": [
            "                   all        440       3441      0.723      0.458      0.451      0.397\n",
            "\n",
            "      Epoch    GPU_mem   box_loss   cls_loss   dfl_loss  Instances       Size\n"
          ]
        },
        {
          "output_type": "stream",
          "name": "stderr",
          "text": [
            "      19/50     0.285G     0.6003      1.442      1.053         20        256: 100%|██████████| 220/220 [00:35<00:00,  6.27it/s]\n",
            "                 Class     Images  Instances      Box(P          R      mAP50  mAP50-95): 100%|██████████| 28/28 [00:04<00:00,  6.70it/s]\n"
          ]
        },
        {
          "output_type": "stream",
          "name": "stdout",
          "text": [
            "                   all        440       3441      0.743      0.446       0.45      0.399\n",
            "\n",
            "      Epoch    GPU_mem   box_loss   cls_loss   dfl_loss  Instances       Size\n"
          ]
        },
        {
          "output_type": "stream",
          "name": "stderr",
          "text": [
            "      20/50     0.287G     0.6208      1.398      1.058         25        256: 100%|██████████| 220/220 [00:33<00:00,  6.49it/s]\n",
            "                 Class     Images  Instances      Box(P          R      mAP50  mAP50-95): 100%|██████████| 28/28 [00:04<00:00,  6.83it/s]"
          ]
        },
        {
          "output_type": "stream",
          "name": "stdout",
          "text": [
            "                   all        440       3441      0.688      0.484      0.451        0.4\n"
          ]
        },
        {
          "output_type": "stream",
          "name": "stderr",
          "text": [
            "\n"
          ]
        },
        {
          "output_type": "stream",
          "name": "stdout",
          "text": [
            "\n",
            "      Epoch    GPU_mem   box_loss   cls_loss   dfl_loss  Instances       Size\n"
          ]
        },
        {
          "output_type": "stream",
          "name": "stderr",
          "text": [
            "      21/50     0.287G      0.612      1.386       1.06         15        256: 100%|██████████| 220/220 [00:35<00:00,  6.14it/s]\n",
            "                 Class     Images  Instances      Box(P          R      mAP50  mAP50-95): 100%|██████████| 28/28 [00:10<00:00,  2.58it/s]"
          ]
        },
        {
          "output_type": "stream",
          "name": "stdout",
          "text": [
            "                   all        440       3441      0.733      0.453      0.467      0.419\n"
          ]
        },
        {
          "output_type": "stream",
          "name": "stderr",
          "text": [
            "\n"
          ]
        },
        {
          "output_type": "stream",
          "name": "stdout",
          "text": [
            "\n",
            "      Epoch    GPU_mem   box_loss   cls_loss   dfl_loss  Instances       Size\n"
          ]
        },
        {
          "output_type": "stream",
          "name": "stderr",
          "text": [
            "      22/50     0.287G     0.6155      1.356      1.057         19        256: 100%|██████████| 220/220 [00:34<00:00,  6.36it/s]\n",
            "                 Class     Images  Instances      Box(P          R      mAP50  mAP50-95): 100%|██████████| 28/28 [00:04<00:00,  5.87it/s]"
          ]
        },
        {
          "output_type": "stream",
          "name": "stdout",
          "text": [
            "                   all        440       3441      0.758      0.456      0.473      0.422\n"
          ]
        },
        {
          "output_type": "stream",
          "name": "stderr",
          "text": [
            "\n"
          ]
        },
        {
          "output_type": "stream",
          "name": "stdout",
          "text": [
            "\n",
            "      Epoch    GPU_mem   box_loss   cls_loss   dfl_loss  Instances       Size\n"
          ]
        },
        {
          "output_type": "stream",
          "name": "stderr",
          "text": [
            "      23/50     0.287G      0.611      1.329      1.056         23        256: 100%|██████████| 220/220 [00:40<00:00,  5.45it/s]\n",
            "                 Class     Images  Instances      Box(P          R      mAP50  mAP50-95): 100%|██████████| 28/28 [00:06<00:00,  4.11it/s]\n"
          ]
        },
        {
          "output_type": "stream",
          "name": "stdout",
          "text": [
            "                   all        440       3441      0.754      0.476      0.468      0.419\n",
            "\n",
            "      Epoch    GPU_mem   box_loss   cls_loss   dfl_loss  Instances       Size\n"
          ]
        },
        {
          "output_type": "stream",
          "name": "stderr",
          "text": [
            "      24/50     0.287G     0.5974      1.297      1.055         53        256: 100%|██████████| 220/220 [00:31<00:00,  6.97it/s]\n",
            "                 Class     Images  Instances      Box(P          R      mAP50  mAP50-95): 100%|██████████| 28/28 [00:06<00:00,  4.18it/s]"
          ]
        },
        {
          "output_type": "stream",
          "name": "stdout",
          "text": [
            "                   all        440       3441      0.789      0.468      0.475      0.426\n"
          ]
        },
        {
          "output_type": "stream",
          "name": "stderr",
          "text": [
            "\n"
          ]
        },
        {
          "output_type": "stream",
          "name": "stdout",
          "text": [
            "\n",
            "      Epoch    GPU_mem   box_loss   cls_loss   dfl_loss  Instances       Size\n"
          ]
        },
        {
          "output_type": "stream",
          "name": "stderr",
          "text": [
            "      25/50     0.287G     0.5969      1.248      1.045         25        256: 100%|██████████| 220/220 [00:35<00:00,  6.18it/s]\n",
            "                 Class     Images  Instances      Box(P          R      mAP50  mAP50-95): 100%|██████████| 28/28 [00:06<00:00,  4.52it/s]"
          ]
        },
        {
          "output_type": "stream",
          "name": "stdout",
          "text": [
            "                   all        440       3441      0.793      0.468      0.483      0.429\n"
          ]
        },
        {
          "output_type": "stream",
          "name": "stderr",
          "text": [
            "\n"
          ]
        },
        {
          "output_type": "stream",
          "name": "stdout",
          "text": [
            "\n",
            "      Epoch    GPU_mem   box_loss   cls_loss   dfl_loss  Instances       Size\n"
          ]
        },
        {
          "output_type": "stream",
          "name": "stderr",
          "text": [
            "      26/50     0.287G     0.5837      1.246      1.042         19        256: 100%|██████████| 220/220 [00:34<00:00,  6.36it/s]\n",
            "                 Class     Images  Instances      Box(P          R      mAP50  mAP50-95): 100%|██████████| 28/28 [00:04<00:00,  6.94it/s]\n"
          ]
        },
        {
          "output_type": "stream",
          "name": "stdout",
          "text": [
            "                   all        440       3441      0.777      0.462      0.472      0.421\n",
            "\n",
            "      Epoch    GPU_mem   box_loss   cls_loss   dfl_loss  Instances       Size\n"
          ]
        },
        {
          "output_type": "stream",
          "name": "stderr",
          "text": [
            "      27/50     0.285G     0.5598       1.23      1.036         14        256: 100%|██████████| 220/220 [00:49<00:00,  4.49it/s]\n",
            "                 Class     Images  Instances      Box(P          R      mAP50  mAP50-95): 100%|██████████| 28/28 [00:04<00:00,  6.09it/s]\n"
          ]
        },
        {
          "output_type": "stream",
          "name": "stdout",
          "text": [
            "                   all        440       3441       0.82      0.468      0.487      0.445\n",
            "\n",
            "      Epoch    GPU_mem   box_loss   cls_loss   dfl_loss  Instances       Size\n"
          ]
        },
        {
          "output_type": "stream",
          "name": "stderr",
          "text": [
            "      28/50     0.287G     0.5634      1.217      1.032         24        256: 100%|██████████| 220/220 [00:34<00:00,  6.42it/s]\n",
            "                 Class     Images  Instances      Box(P          R      mAP50  mAP50-95): 100%|██████████| 28/28 [00:05<00:00,  5.08it/s]"
          ]
        },
        {
          "output_type": "stream",
          "name": "stdout",
          "text": [
            "                   all        440       3441      0.836      0.465      0.492      0.444\n"
          ]
        },
        {
          "output_type": "stream",
          "name": "stderr",
          "text": [
            "\n"
          ]
        },
        {
          "output_type": "stream",
          "name": "stdout",
          "text": [
            "\n",
            "      Epoch    GPU_mem   box_loss   cls_loss   dfl_loss  Instances       Size\n"
          ]
        },
        {
          "output_type": "stream",
          "name": "stderr",
          "text": [
            "      29/50     0.285G     0.5674      1.188      1.036         26        256: 100%|██████████| 220/220 [00:32<00:00,  6.86it/s]\n",
            "                 Class     Images  Instances      Box(P          R      mAP50  mAP50-95): 100%|██████████| 28/28 [00:07<00:00,  3.98it/s]"
          ]
        },
        {
          "output_type": "stream",
          "name": "stdout",
          "text": [
            "                   all        440       3441      0.823      0.464      0.491      0.441\n"
          ]
        },
        {
          "output_type": "stream",
          "name": "stderr",
          "text": [
            "\n"
          ]
        },
        {
          "output_type": "stream",
          "name": "stdout",
          "text": [
            "\n",
            "      Epoch    GPU_mem   box_loss   cls_loss   dfl_loss  Instances       Size\n"
          ]
        },
        {
          "output_type": "stream",
          "name": "stderr",
          "text": [
            "      30/50     0.285G     0.5563      1.173      1.037         22        256: 100%|██████████| 220/220 [00:31<00:00,  6.88it/s]\n",
            "                 Class     Images  Instances      Box(P          R      mAP50  mAP50-95): 100%|██████████| 28/28 [00:06<00:00,  4.57it/s]\n"
          ]
        },
        {
          "output_type": "stream",
          "name": "stdout",
          "text": [
            "                   all        440       3441      0.807      0.461      0.492      0.442\n",
            "\n",
            "      Epoch    GPU_mem   box_loss   cls_loss   dfl_loss  Instances       Size\n"
          ]
        },
        {
          "output_type": "stream",
          "name": "stderr",
          "text": [
            "      31/50     0.285G     0.5589      1.128      1.031         22        256: 100%|██████████| 220/220 [00:33<00:00,  6.65it/s]\n",
            "                 Class     Images  Instances      Box(P          R      mAP50  mAP50-95): 100%|██████████| 28/28 [00:04<00:00,  6.75it/s]"
          ]
        },
        {
          "output_type": "stream",
          "name": "stdout",
          "text": [
            "                   all        440       3441      0.817       0.47      0.492      0.445\n"
          ]
        },
        {
          "output_type": "stream",
          "name": "stderr",
          "text": [
            "\n"
          ]
        },
        {
          "output_type": "stream",
          "name": "stdout",
          "text": [
            "\n",
            "      Epoch    GPU_mem   box_loss   cls_loss   dfl_loss  Instances       Size\n"
          ]
        },
        {
          "output_type": "stream",
          "name": "stderr",
          "text": [
            "      32/50     0.285G     0.5419       1.11      1.021         22        256: 100%|██████████| 220/220 [00:33<00:00,  6.57it/s]\n",
            "                 Class     Images  Instances      Box(P          R      mAP50  mAP50-95): 100%|██████████| 28/28 [00:04<00:00,  6.81it/s]\n"
          ]
        },
        {
          "output_type": "stream",
          "name": "stdout",
          "text": [
            "                   all        440       3441      0.844      0.468      0.496      0.449\n",
            "\n",
            "      Epoch    GPU_mem   box_loss   cls_loss   dfl_loss  Instances       Size\n"
          ]
        },
        {
          "output_type": "stream",
          "name": "stderr",
          "text": [
            "      33/50     0.285G      0.559      1.123      1.022         28        256: 100%|██████████| 220/220 [00:33<00:00,  6.48it/s]\n",
            "                 Class     Images  Instances      Box(P          R      mAP50  mAP50-95): 100%|██████████| 28/28 [00:04<00:00,  6.77it/s]"
          ]
        },
        {
          "output_type": "stream",
          "name": "stdout",
          "text": [
            "                   all        440       3441      0.818      0.473      0.494      0.446\n"
          ]
        },
        {
          "output_type": "stream",
          "name": "stderr",
          "text": [
            "\n"
          ]
        },
        {
          "output_type": "stream",
          "name": "stdout",
          "text": [
            "\n",
            "      Epoch    GPU_mem   box_loss   cls_loss   dfl_loss  Instances       Size\n"
          ]
        },
        {
          "output_type": "stream",
          "name": "stderr",
          "text": [
            "      34/50     0.285G     0.5463      1.097       1.03         17        256: 100%|██████████| 220/220 [00:34<00:00,  6.46it/s]\n",
            "                 Class     Images  Instances      Box(P          R      mAP50  mAP50-95): 100%|██████████| 28/28 [00:04<00:00,  5.63it/s]"
          ]
        },
        {
          "output_type": "stream",
          "name": "stdout",
          "text": [
            "                   all        440       3441      0.828       0.48      0.497      0.453\n"
          ]
        },
        {
          "output_type": "stream",
          "name": "stderr",
          "text": [
            "\n"
          ]
        },
        {
          "output_type": "stream",
          "name": "stdout",
          "text": [
            "\n",
            "      Epoch    GPU_mem   box_loss   cls_loss   dfl_loss  Instances       Size\n"
          ]
        },
        {
          "output_type": "stream",
          "name": "stderr",
          "text": [
            "      35/50     0.285G     0.5445      1.073      1.036         19        256: 100%|██████████| 220/220 [00:31<00:00,  6.93it/s]\n",
            "                 Class     Images  Instances      Box(P          R      mAP50  mAP50-95): 100%|██████████| 28/28 [00:06<00:00,  4.23it/s]\n"
          ]
        },
        {
          "output_type": "stream",
          "name": "stdout",
          "text": [
            "                   all        440       3441      0.881      0.466      0.501      0.453\n",
            "\n",
            "      Epoch    GPU_mem   box_loss   cls_loss   dfl_loss  Instances       Size\n"
          ]
        },
        {
          "output_type": "stream",
          "name": "stderr",
          "text": [
            "      36/50     0.285G      0.533      1.054      1.022         33        256: 100%|██████████| 220/220 [00:31<00:00,  6.96it/s]\n",
            "                 Class     Images  Instances      Box(P          R      mAP50  mAP50-95): 100%|██████████| 28/28 [00:04<00:00,  5.78it/s]\n"
          ]
        },
        {
          "output_type": "stream",
          "name": "stdout",
          "text": [
            "                   all        440       3441      0.852      0.473      0.503      0.457\n",
            "\n",
            "      Epoch    GPU_mem   box_loss   cls_loss   dfl_loss  Instances       Size\n"
          ]
        },
        {
          "output_type": "stream",
          "name": "stderr",
          "text": [
            "      37/50     0.287G     0.5213      1.033      1.017         25        256: 100%|██████████| 220/220 [00:33<00:00,  6.56it/s]\n",
            "                 Class     Images  Instances      Box(P          R      mAP50  mAP50-95): 100%|██████████| 28/28 [00:04<00:00,  6.77it/s]"
          ]
        },
        {
          "output_type": "stream",
          "name": "stdout",
          "text": [
            "                   all        440       3441      0.864      0.473      0.501      0.457\n"
          ]
        },
        {
          "output_type": "stream",
          "name": "stderr",
          "text": [
            "\n"
          ]
        },
        {
          "output_type": "stream",
          "name": "stdout",
          "text": [
            "\n",
            "      Epoch    GPU_mem   box_loss   cls_loss   dfl_loss  Instances       Size\n"
          ]
        },
        {
          "output_type": "stream",
          "name": "stderr",
          "text": [
            "      38/50     0.285G     0.5289      1.053      1.015         24        256: 100%|██████████| 220/220 [00:33<00:00,  6.62it/s]\n",
            "                 Class     Images  Instances      Box(P          R      mAP50  mAP50-95): 100%|██████████| 28/28 [00:04<00:00,  6.92it/s]\n"
          ]
        },
        {
          "output_type": "stream",
          "name": "stdout",
          "text": [
            "                   all        440       3441      0.864      0.464      0.501      0.459\n",
            "\n",
            "      Epoch    GPU_mem   box_loss   cls_loss   dfl_loss  Instances       Size\n"
          ]
        },
        {
          "output_type": "stream",
          "name": "stderr",
          "text": [
            "      39/50     0.285G     0.5332      1.022      1.018         17        256: 100%|██████████| 220/220 [00:33<00:00,  6.66it/s]\n",
            "                 Class     Images  Instances      Box(P          R      mAP50  mAP50-95): 100%|██████████| 28/28 [00:04<00:00,  6.06it/s]"
          ]
        },
        {
          "output_type": "stream",
          "name": "stdout",
          "text": [
            "                   all        440       3441      0.853      0.471      0.504       0.46\n"
          ]
        },
        {
          "output_type": "stream",
          "name": "stderr",
          "text": [
            "\n"
          ]
        },
        {
          "output_type": "stream",
          "name": "stdout",
          "text": [
            "\n",
            "      Epoch    GPU_mem   box_loss   cls_loss   dfl_loss  Instances       Size\n"
          ]
        },
        {
          "output_type": "stream",
          "name": "stderr",
          "text": [
            "      40/50     0.285G     0.5309      1.018      1.015         23        256: 100%|██████████| 220/220 [00:32<00:00,  6.80it/s]\n",
            "                 Class     Images  Instances      Box(P          R      mAP50  mAP50-95): 100%|██████████| 28/28 [00:06<00:00,  4.29it/s]"
          ]
        },
        {
          "output_type": "stream",
          "name": "stdout",
          "text": [
            "                   all        440       3441       0.82      0.481      0.505      0.462\n"
          ]
        },
        {
          "output_type": "stream",
          "name": "stderr",
          "text": [
            "\n"
          ]
        },
        {
          "output_type": "stream",
          "name": "stdout",
          "text": [
            "Closing dataloader mosaic\n",
            "\u001b[34m\u001b[1malbumentations: \u001b[0mBlur(p=0.01, blur_limit=(3, 7)), MedianBlur(p=0.01, blur_limit=(3, 7)), ToGray(p=0.01, num_output_channels=3, method='weighted_average'), CLAHE(p=0.01, clip_limit=(1.0, 4.0), tile_grid_size=(8, 8))\n",
            "\n",
            "      Epoch    GPU_mem   box_loss   cls_loss   dfl_loss  Instances       Size\n"
          ]
        },
        {
          "output_type": "stream",
          "name": "stderr",
          "text": [
            "      41/50     0.285G     0.5032      0.944      1.018          8        256: 100%|██████████| 220/220 [00:31<00:00,  6.95it/s]\n",
            "                 Class     Images  Instances      Box(P          R      mAP50  mAP50-95): 100%|██████████| 28/28 [00:06<00:00,  4.48it/s]\n"
          ]
        },
        {
          "output_type": "stream",
          "name": "stdout",
          "text": [
            "                   all        440       3441      0.847      0.478      0.503      0.457\n",
            "\n",
            "      Epoch    GPU_mem   box_loss   cls_loss   dfl_loss  Instances       Size\n"
          ]
        },
        {
          "output_type": "stream",
          "name": "stderr",
          "text": [
            "      42/50     0.285G     0.4805     0.8782      1.005          8        256: 100%|██████████| 220/220 [00:32<00:00,  6.73it/s]\n",
            "                 Class     Images  Instances      Box(P          R      mAP50  mAP50-95): 100%|██████████| 28/28 [00:04<00:00,  6.41it/s]\n"
          ]
        },
        {
          "output_type": "stream",
          "name": "stdout",
          "text": [
            "                   all        440       3441      0.827       0.48      0.504      0.454\n",
            "\n",
            "      Epoch    GPU_mem   box_loss   cls_loss   dfl_loss  Instances       Size\n"
          ]
        },
        {
          "output_type": "stream",
          "name": "stderr",
          "text": [
            "      43/50     0.285G     0.4681      0.827      1.009          8        256: 100%|██████████| 220/220 [00:33<00:00,  6.62it/s]\n",
            "                 Class     Images  Instances      Box(P          R      mAP50  mAP50-95): 100%|██████████| 28/28 [00:04<00:00,  6.75it/s]"
          ]
        },
        {
          "output_type": "stream",
          "name": "stdout",
          "text": [
            "                   all        440       3441      0.843      0.468      0.503      0.458\n"
          ]
        },
        {
          "output_type": "stream",
          "name": "stderr",
          "text": [
            "\n"
          ]
        },
        {
          "output_type": "stream",
          "name": "stdout",
          "text": [
            "\n",
            "      Epoch    GPU_mem   box_loss   cls_loss   dfl_loss  Instances       Size\n"
          ]
        },
        {
          "output_type": "stream",
          "name": "stderr",
          "text": [
            "      44/50     0.285G     0.4529     0.8278      0.995         13        256: 100%|██████████| 220/220 [00:33<00:00,  6.58it/s]\n",
            "                 Class     Images  Instances      Box(P          R      mAP50  mAP50-95): 100%|██████████| 28/28 [00:04<00:00,  6.84it/s]\n"
          ]
        },
        {
          "output_type": "stream",
          "name": "stdout",
          "text": [
            "                   all        440       3441      0.856      0.474      0.505      0.459\n",
            "\n",
            "      Epoch    GPU_mem   box_loss   cls_loss   dfl_loss  Instances       Size\n"
          ]
        },
        {
          "output_type": "stream",
          "name": "stderr",
          "text": [
            "      45/50     0.285G      0.455     0.8153     0.9943          9        256: 100%|██████████| 220/220 [00:33<00:00,  6.65it/s]\n",
            "                 Class     Images  Instances      Box(P          R      mAP50  mAP50-95): 100%|██████████| 28/28 [00:04<00:00,  6.89it/s]"
          ]
        },
        {
          "output_type": "stream",
          "name": "stdout",
          "text": [
            "                   all        440       3441      0.899      0.464      0.504      0.461\n"
          ]
        },
        {
          "output_type": "stream",
          "name": "stderr",
          "text": [
            "\n"
          ]
        },
        {
          "output_type": "stream",
          "name": "stdout",
          "text": [
            "\n",
            "      Epoch    GPU_mem   box_loss   cls_loss   dfl_loss  Instances       Size\n"
          ]
        },
        {
          "output_type": "stream",
          "name": "stderr",
          "text": [
            "      46/50     0.285G     0.4286     0.7496     0.9764         13        256: 100%|██████████| 220/220 [00:33<00:00,  6.55it/s]\n",
            "                 Class     Images  Instances      Box(P          R      mAP50  mAP50-95): 100%|██████████| 28/28 [00:04<00:00,  6.06it/s]\n"
          ]
        },
        {
          "output_type": "stream",
          "name": "stdout",
          "text": [
            "                   all        440       3441      0.858       0.48      0.505      0.463\n",
            "\n",
            "      Epoch    GPU_mem   box_loss   cls_loss   dfl_loss  Instances       Size\n"
          ]
        },
        {
          "output_type": "stream",
          "name": "stderr",
          "text": [
            "      47/50     0.287G     0.4364     0.7603     0.9802          8        256: 100%|██████████| 220/220 [00:31<00:00,  6.94it/s]\n",
            "                 Class     Images  Instances      Box(P          R      mAP50  mAP50-95): 100%|██████████| 28/28 [00:06<00:00,  4.21it/s]\n"
          ]
        },
        {
          "output_type": "stream",
          "name": "stdout",
          "text": [
            "                   all        440       3441      0.835      0.487      0.506      0.464\n",
            "\n",
            "      Epoch    GPU_mem   box_loss   cls_loss   dfl_loss  Instances       Size\n"
          ]
        },
        {
          "output_type": "stream",
          "name": "stderr",
          "text": [
            "      48/50     0.287G      0.434     0.7641     0.9813         10        256: 100%|██████████| 220/220 [00:31<00:00,  7.06it/s]\n",
            "                 Class     Images  Instances      Box(P          R      mAP50  mAP50-95): 100%|██████████| 28/28 [00:06<00:00,  4.10it/s]"
          ]
        },
        {
          "output_type": "stream",
          "name": "stdout",
          "text": [
            "                   all        440       3441      0.836       0.49      0.507      0.466\n"
          ]
        },
        {
          "output_type": "stream",
          "name": "stderr",
          "text": [
            "\n"
          ]
        },
        {
          "output_type": "stream",
          "name": "stdout",
          "text": [
            "\n",
            "      Epoch    GPU_mem   box_loss   cls_loss   dfl_loss  Instances       Size\n"
          ]
        },
        {
          "output_type": "stream",
          "name": "stderr",
          "text": [
            "      49/50     0.285G     0.4331     0.7501     0.9762         14        256: 100%|██████████| 220/220 [00:31<00:00,  6.93it/s]\n",
            "                 Class     Images  Instances      Box(P          R      mAP50  mAP50-95): 100%|██████████| 28/28 [00:05<00:00,  5.31it/s]\n"
          ]
        },
        {
          "output_type": "stream",
          "name": "stdout",
          "text": [
            "                   all        440       3441       0.87      0.475      0.507      0.468\n",
            "\n",
            "      Epoch    GPU_mem   box_loss   cls_loss   dfl_loss  Instances       Size\n"
          ]
        },
        {
          "output_type": "stream",
          "name": "stderr",
          "text": [
            "      50/50     0.285G     0.4274     0.7637     0.9688          8        256: 100%|██████████| 220/220 [00:32<00:00,  6.80it/s]\n",
            "                 Class     Images  Instances      Box(P          R      mAP50  mAP50-95): 100%|██████████| 28/28 [00:04<00:00,  6.77it/s]\n"
          ]
        },
        {
          "output_type": "stream",
          "name": "stdout",
          "text": [
            "                   all        440       3441      0.852       0.48      0.507      0.468\n",
            "\n",
            "50 epochs completed in 0.575 hours.\n",
            "Optimizer stripped from runs/detect/train/weights/last.pt, 6.2MB\n",
            "Optimizer stripped from runs/detect/train/weights/best.pt, 6.2MB\n",
            "\n",
            "Validating runs/detect/train/weights/best.pt...\n",
            "Ultralytics 8.3.37 🚀 Python-3.10.12 torch-2.5.1+cu121 CUDA:0 (Tesla T4, 15102MiB)\n",
            "Model summary (fused): 168 layers, 3,015,398 parameters, 0 gradients, 8.1 GFLOPs\n"
          ]
        },
        {
          "output_type": "stream",
          "name": "stderr",
          "text": [
            "                 Class     Images  Instances      Box(P          R      mAP50  mAP50-95): 100%|██████████| 28/28 [00:04<00:00,  6.11it/s]\n"
          ]
        },
        {
          "output_type": "stream",
          "name": "stdout",
          "text": [
            "                   all        440       3441      0.852       0.48      0.507      0.468\n",
            "               0000059          3          3      0.499          1      0.995      0.995\n",
            "               0000133         14         21          1      0.561      0.676      0.638\n",
            "               0000919          7          7      0.934          1      0.995      0.975\n",
            "               0022236          7         42      0.959      0.167      0.174      0.147\n",
            "               0025619         15        591      0.571      0.022     0.0474     0.0372\n",
            "               0025684         11         33      0.485      0.333       0.29      0.259\n",
            "               0025700         13         17      0.827      0.706      0.755      0.749\n",
            "               0025833          9         81      0.907      0.111      0.123        0.1\n",
            "               0025858         10         52      0.959      0.192      0.217      0.193\n",
            "               0025965         12         20      0.904        0.6       0.61      0.569\n",
            "               0026062          8         20      0.945        0.4      0.406        0.4\n",
            "               0028852         14         14      0.925      0.882      0.976      0.887\n",
            "               0039461          8         12       0.93      0.667      0.668      0.591\n",
            "               0039487         10         34      0.856      0.294      0.303      0.292\n",
            "               0039545         10         17          1      0.526      0.598       0.51\n",
            "               0357780          4          4      0.838          1      0.995      0.964\n",
            "               0358515          7        248      0.939     0.0282     0.0373     0.0366\n",
            "               0523050         10         25      0.659       0.36      0.379      0.292\n",
            "               1030030          4          5      0.891        0.8      0.796      0.796\n",
            "               1130475          6         12      0.935        0.5      0.506      0.506\n",
            "               1202290          6          7      0.834      0.857      0.857      0.816\n",
            "               1237684          9        949      0.205     0.0179     0.0254     0.0157\n",
            "               1320605         12         27      0.599      0.444       0.42      0.379\n",
            "               1519156          9        246          1      0.032     0.0627     0.0574\n",
            "               1795079          7         89      0.936     0.0787     0.0952     0.0831\n",
            "               1830363          7          8      0.796       0.75      0.812      0.684\n",
            "               1883321          3         11      0.884      0.273      0.281       0.24\n",
            "               1883339         12         13      0.986      0.923      0.928      0.817\n",
            "               1883545          5         28      0.796      0.179       0.19       0.16\n",
            "               1934991          7         57      0.946      0.123       0.14      0.134\n",
            "               1942689          9          9      0.855          1      0.984      0.906\n",
            "               2065670          6          8      0.739       0.75      0.755      0.653\n",
            "               2151785          9         10      0.842      0.538      0.817      0.749\n",
            "               2196459          7         11      0.838      0.636       0.64      0.564\n",
            "               2349637          6          7      0.843       0.77      0.838      0.742\n",
            "               2350072          8         32      0.958       0.25      0.267      0.242\n",
            "               2393767         12         14      0.987      0.857      0.863      0.792\n",
            "               2436681          8         11      0.981      0.727      0.728      0.631\n",
            "               2524361          4         10      0.928        0.4      0.402      0.365\n",
            "               2524387          8          9      0.903      0.889      0.888      0.807\n",
            "               2619351         10         30      0.891      0.267      0.324      0.318\n",
            "               2619369         12         20      0.903       0.55      0.595      0.492\n",
            "               2619377         15         54       0.88      0.278      0.285      0.266\n",
            "               2685410         13         82       0.98      0.159      0.188       0.18\n",
            "               2692499          4        107          1     0.0425      0.053     0.0443\n",
            "               3013703         10         16      0.655      0.438      0.563      0.539\n",
            "               3300779         12         67      0.902      0.134      0.187      0.164\n",
            "               3300795         11         19          1      0.454      0.572      0.564\n",
            "               3300829          9          9      0.627          1      0.995      0.971\n",
            "               3302965          8        223      0.949     0.0359     0.0672     0.0672\n",
            "Speed: 0.1ms preprocess, 1.5ms inference, 0.0ms loss, 1.8ms postprocess per image\n",
            "Results saved to \u001b[1mruns/detect/train\u001b[0m\n",
            "Training completed! Check results in: /content/runs/detect/train4\n"
          ]
        }
      ]
    },
    {
      "cell_type": "code",
      "source": [
        "# trained model (best.pt)\n",
        "m = YOLO('/content/drive/My Drive/CV 2/best-50.pt')\n",
        "metrics = m.val()\n"
      ],
      "metadata": {
        "colab": {
          "base_uri": "https://localhost:8080/",
          "height": 176
        },
        "id": "7F60FsFnx5-0",
        "outputId": "4cef2c1f-d309-4806-f461-23694ee4471e"
      },
      "execution_count": null,
      "outputs": [
        {
          "output_type": "error",
          "ename": "NameError",
          "evalue": "name 'YOLO' is not defined",
          "traceback": [
            "\u001b[0;31m---------------------------------------------------------------------------\u001b[0m",
            "\u001b[0;31mNameError\u001b[0m                                 Traceback (most recent call last)",
            "\u001b[0;32m<ipython-input-1-716d32fc8c3a>\u001b[0m in \u001b[0;36m<cell line: 2>\u001b[0;34m()\u001b[0m\n\u001b[1;32m      1\u001b[0m \u001b[0;31m# trained model (best.pt)\u001b[0m\u001b[0;34m\u001b[0m\u001b[0;34m\u001b[0m\u001b[0m\n\u001b[0;32m----> 2\u001b[0;31m \u001b[0mm\u001b[0m \u001b[0;34m=\u001b[0m \u001b[0mYOLO\u001b[0m\u001b[0;34m(\u001b[0m\u001b[0;34m'/content/drive/My Drive/CV 2/best-50.pt'\u001b[0m\u001b[0;34m)\u001b[0m\u001b[0;34m\u001b[0m\u001b[0;34m\u001b[0m\u001b[0m\n\u001b[0m\u001b[1;32m      3\u001b[0m \u001b[0mmetrics\u001b[0m \u001b[0;34m=\u001b[0m \u001b[0mm\u001b[0m\u001b[0;34m.\u001b[0m\u001b[0mval\u001b[0m\u001b[0;34m(\u001b[0m\u001b[0;34m)\u001b[0m\u001b[0;34m\u001b[0m\u001b[0;34m\u001b[0m\u001b[0m\n",
            "\u001b[0;31mNameError\u001b[0m: name 'YOLO' is not defined"
          ]
        }
      ]
    },
    {
      "cell_type": "code",
      "source": [
        "#CONFUSION MATRIX\n",
        "import numpy as np\n",
        "import matplotlib.pyplot as plt\n",
        "from sklearn.metrics import confusion_matrix\n",
        "import seaborn as sns\n",
        "from ultralytics import YOLO\n",
        "\n",
        "# Load the trained model (best.pt)\n",
        "model = YOLO('/content/drive/My Drive/CV Final/best-50.pt')\n",
        "\n",
        "# Run validation to get the results and predictions\n",
        "metrics = model.val()\n",
        "\n",
        "# Extract true labels (targets) and predicted labels (pred)\n",
        "targets = metrics['targets']  # Ground truth labels\n",
        "preds = metrics['pred']  # Predicted labels\n",
        "\n",
        "# Convert to numpy arrays (if necessary)\n",
        "# Each row in targets and preds corresponds to an image and its class label.\n",
        "# Assuming targets are in the format: [image_idx, class_idx, x1, y1, x2, y2]\n",
        "# And preds are in the format: [image_idx, class_idx, x1, y1, x2, y2, confidence_score]\n",
        "\n",
        "# Flatten targets and predictions to get the class indexes for confusion matrix\n",
        "true_labels = targets[:, 1].astype(int)  # Extract true class labels\n",
        "predicted_labels = preds[:, 0].astype(int)  # Extract predicted class labels\n",
        "\n",
        "# Compute confusion matrix\n",
        "cm = confusion_matrix(true_labels, predicted_labels)\n",
        "\n",
        "# Plot confusion matrix using Seaborn heatmap for better visualization\n",
        "plt.figure(figsize=(10, 8))\n",
        "sns.heatmap(cm, annot=True, fmt='d', cmap='Blues', xticklabels=model.names, yticklabels=model.names)\n",
        "plt.title('Confusion Matrix')\n",
        "plt.xlabel('Predicted Labels')\n",
        "plt.ylabel('True Labels')\n",
        "plt.show()\n"
      ],
      "metadata": {
        "id": "kIvT2ODuKu1W"
      },
      "execution_count": null,
      "outputs": []
    },
    {
      "cell_type": "code",
      "source": [
        "#plots\n",
        "import matplotlib.pyplot as plt\n",
        "\n",
        "# Assuming the metrics object contains the following\n",
        "# Adjust according to the actual structure of the metrics dictionary\n",
        "epochs = range(1, len(metrics['maps'][0]) + 1)  # Number of epochs (assuming 'maps' is a list)\n",
        "\n",
        "# Extract mAP at IoU=50 (mAP@50) and mAP@50-95\n",
        "mAP_50 = [map_value[0] for map_value in metrics['maps']]  # mAP@50 for each epoch\n",
        "mAP_50_95 = [map_value[1] for map_value in metrics['maps']]  # mAP@50-95 for each epoch\n",
        "\n",
        "# Extract precision and recall (if available)\n",
        "precision = metrics['precision']  # This might vary based on the model version\n",
        "recall = metrics['recall']\n",
        "\n",
        "# Plot mAP vs Epochs\n",
        "plt.figure(figsize=(10, 6))\n",
        "plt.plot(epochs, mAP_50, label=\"mAP@50\", color='g', linestyle='-', marker='o')\n",
        "plt.plot(epochs, mAP_50_95, label=\"mAP@50-95\", color='orange', linestyle='-', marker='x')\n",
        "plt.title(\"mAP vs Epochs\")\n",
        "plt.xlabel(\"Epochs\")\n",
        "plt.ylabel(\"mAP\")\n",
        "plt.legend()\n",
        "plt.grid(True)\n",
        "plt.show()\n",
        "\n",
        "# Optionally, plot precision and recall\n",
        "if precision and recall:\n",
        "    plt.figure(figsize=(10, 6))\n",
        "    plt.plot(epochs, precision, label=\"Precision\", color='purple', linestyle='-', marker='o')\n",
        "    plt.plot(epochs, recall, label=\"Recall\", color='brown', linestyle='--', marker='x')\n",
        "    plt.title(\"Precision and Recall vs Epochs\")\n",
        "    plt.xlabel(\"Epochs\")\n",
        "    plt.ylabel(\"Precision / Recall\")\n",
        "    plt.legend()\n",
        "    plt.grid(True)\n",
        "    plt.show()\n"
      ],
      "metadata": {
        "id": "jPFB4HFqLbdm"
      },
      "execution_count": null,
      "outputs": []
    },
    {
      "cell_type": "code",
      "source": [
        "print(\"\\nValidation Metrics:\")\n",
        "print(f\"mAP@0.5: {metrics.box.map50:.4f}\")\n",
        "print(f\"mAP@0.5:0.95: {metrics.box.map:.4f}\")\n",
        "print(f\"Mean Precision: {metrics.box.mp:.4f}\")\n",
        "print(f\"Mean Recall: {metrics.box.mr:.4f}\")"
      ],
      "metadata": {
        "colab": {
          "base_uri": "https://localhost:8080/"
        },
        "id": "OMH-epQQ7Yvc",
        "outputId": "d1793738-65ab-402f-fe75-00545757bbb7"
      },
      "execution_count": null,
      "outputs": [
        {
          "output_type": "stream",
          "name": "stdout",
          "text": [
            "\n",
            "Validation Metrics:\n",
            "mAP@0.5: 0.5343\n",
            "mAP@0.5:0.95: 0.4913\n",
            "Mean Precision: 0.8632\n",
            "Mean Recall: 0.5112\n"
          ]
        }
      ]
    },
    {
      "cell_type": "code",
      "source": [
        "import os\n",
        "import cv2\n",
        "from ultralytics import YOLO\n",
        "\n",
        "# Define the path to the test directory and trained YOLO model\n",
        "test_image_dir = '/content/drive/My Drive/CV Final/Dataset_augment_50/Test/images'\n",
        "output_dir = '/content/drive/My Drive/CV Final/Dataset_augment_50/Test/labels'\n",
        "model_path = '/content/drive/My Drive/CV Final/best-50.pt'\n",
        "\n",
        "\n",
        "model_test = YOLO(model_path)\n",
        "print(class_mapping)\n",
        "\n",
        "test_images = sorted(os.listdir(test_image_dir))[:10]\n",
        "for image_name in test_images:\n",
        "    image_path = os.path.join(test_image_dir, image_name)\n",
        "\n",
        "    img = cv2.imread(image_path)\n",
        "    if img is None:\n",
        "        print(f\"Could not read image: {image_name}\")\n",
        "        continue\n",
        "\n",
        "    results = model_test.predict(source=image_path, save=True, save_txt=True, project=output_dir, name='test_results')\n",
        "\n",
        "    print(f\"\\nResults for {image_name}:\")\n",
        "    for result in results:\n",
        "        boxes = result.boxes.xyxy\n",
        "        confidences = result.boxes.conf\n",
        "        class_ids = result.boxes.cls\n",
        "\n",
        "        for box, confidence, class_id in zip(boxes, confidences, class_ids):\n",
        "            print(f\"Class ID: {int(class_id)}, Confidence: {confidence:.4f}, BBox: {box.tolist()}\")\n",
        "\n",
        "    output_img_path = os.path.join(output_dir, 'test_results', image_name)\n",
        "    print(f\"Processed {image_name}. Saved results to {output_img_path}\")\n",
        "\n",
        "print(f\"Test completed for 10 images. Results saved in: {output_dir}\")\n"
      ],
      "metadata": {
        "id": "V1i0fG6V7aZ3",
        "colab": {
          "base_uri": "https://localhost:8080/"
        },
        "outputId": "5f010eb2-d5ea-46af-db56-f36dd81b5aa0"
      },
      "execution_count": null,
      "outputs": [
        {
          "output_type": "stream",
          "name": "stdout",
          "text": [
            "{'0000059': 0, '0000133': 1, '0000919': 2, '0022236': 3, '0025619': 4, '0025684': 5, '0025700': 6, '0025833': 7, '0025858': 8, '0025965': 9, '0026062': 10, '0028852': 11, '0039461': 12, '0039487': 13, '0039545': 14, '0357780': 15, '0358515': 16, '0523050': 17, '0984765': 18, '1030030': 19, '1130475': 20, '1202290': 21, '1237684': 22, '1320605': 23, '1519156': 24, '1795079': 25, '1830363': 26, '1883321': 27, '1883339': 28, '1883545': 29, '1934991': 30, '1942689': 31, '2065670': 32, '2151785': 33, '2196459': 34, '2349637': 35, '2350072': 36, '2393767': 37, '2436681': 38, '2524361': 39, '2524387': 40, '2619351': 41, '2619369': 42, '2619377': 43, '2685410': 44, '3013703': 45, '3300779': 46, '3300795': 47, '3300829': 48, '3302965': 49}\n",
            "Could not read image: 0000059_test.jpg\n",
            "\n",
            "image 1/1 /content/drive/My Drive/CV Final/Dataset_augment_50/Test/images/0000113_test.jpg: 256x256 1 0000059, 1 0000133, 48.8ms\n",
            "Speed: 1.1ms preprocess, 48.8ms inference, 0.8ms postprocess per image at shape (1, 3, 256, 256)\n",
            "Results saved to \u001b[1m/content/drive/My Drive/CV Final/Dataset_augment_50/Test/labels/test_results57\u001b[0m\n",
            "1 label saved to /content/drive/My Drive/CV Final/Dataset_augment_50/Test/labels/test_results57/labels\n",
            "\n",
            "Results for 0000113_test.jpg:\n",
            "Class ID: 1, Confidence: 0.8168, BBox: [74.83158874511719, 0.3175467252731323, 151.38609313964844, 223.62936401367188]\n",
            "Class ID: 0, Confidence: 0.6531, BBox: [74.65762329101562, 0.3172382712364197, 151.33897399902344, 224.5076141357422]\n",
            "Processed 0000113_test.jpg. Saved results to /content/drive/My Drive/CV Final/Dataset_augment_50/Test/labels/test_results/0000113_test.jpg\n",
            "\n",
            "image 1/1 /content/drive/My Drive/CV Final/Dataset_augment_50/Test/images/0000919_test.jpg: 256x256 1 0000919, 45.8ms\n",
            "Speed: 1.0ms preprocess, 45.8ms inference, 0.9ms postprocess per image at shape (1, 3, 256, 256)\n",
            "Results saved to \u001b[1m/content/drive/My Drive/CV Final/Dataset_augment_50/Test/labels/test_results58\u001b[0m\n",
            "1 label saved to /content/drive/My Drive/CV Final/Dataset_augment_50/Test/labels/test_results58/labels\n",
            "\n",
            "Results for 0000919_test.jpg:\n",
            "Class ID: 2, Confidence: 0.9827, BBox: [338.0102844238281, 35.433380126953125, 669.7797241210938, 985.6055297851562]\n",
            "Processed 0000919_test.jpg. Saved results to /content/drive/My Drive/CV Final/Dataset_augment_50/Test/labels/test_results/0000919_test.jpg\n",
            "\n",
            "image 1/1 /content/drive/My Drive/CV Final/Dataset_augment_50/Test/images/0022236_test.jpg: 256x256 1 0022236, 59.3ms\n",
            "Speed: 0.9ms preprocess, 59.3ms inference, 1.1ms postprocess per image at shape (1, 3, 256, 256)\n",
            "Results saved to \u001b[1m/content/drive/My Drive/CV Final/Dataset_augment_50/Test/labels/test_results59\u001b[0m\n",
            "1 label saved to /content/drive/My Drive/CV Final/Dataset_augment_50/Test/labels/test_results59/labels\n",
            "\n",
            "Results for 0022236_test.jpg:\n",
            "Class ID: 3, Confidence: 0.9994, BBox: [11.68722915649414, 15.027987480163574, 212.6675262451172, 208.01841735839844]\n",
            "Processed 0022236_test.jpg. Saved results to /content/drive/My Drive/CV Final/Dataset_augment_50/Test/labels/test_results/0022236_test.jpg\n",
            "\n",
            "image 1/1 /content/drive/My Drive/CV Final/Dataset_augment_50/Test/images/0025619_test.jpg: 256x256 1 0025619, 1 0025684, 59.0ms\n",
            "Speed: 1.0ms preprocess, 59.0ms inference, 1.0ms postprocess per image at shape (1, 3, 256, 256)\n",
            "Results saved to \u001b[1m/content/drive/My Drive/CV Final/Dataset_augment_50/Test/labels/test_results60\u001b[0m\n",
            "1 label saved to /content/drive/My Drive/CV Final/Dataset_augment_50/Test/labels/test_results60/labels\n",
            "\n",
            "Results for 0025619_test.jpg:\n",
            "Class ID: 4, Confidence: 0.8466, BBox: [19.645416259765625, 33.721160888671875, 205.90733337402344, 196.45399475097656]\n",
            "Class ID: 5, Confidence: 0.8458, BBox: [19.90312385559082, 33.61491775512695, 205.46273803710938, 196.5831756591797]\n",
            "Processed 0025619_test.jpg. Saved results to /content/drive/My Drive/CV Final/Dataset_augment_50/Test/labels/test_results/0025619_test.jpg\n",
            "\n",
            "image 1/1 /content/drive/My Drive/CV Final/Dataset_augment_50/Test/images/0039545_test.jpg: 256x256 1 0039545, 48.9ms\n",
            "Speed: 1.0ms preprocess, 48.9ms inference, 1.0ms postprocess per image at shape (1, 3, 256, 256)\n",
            "Results saved to \u001b[1m/content/drive/My Drive/CV Final/Dataset_augment_50/Test/labels/test_results61\u001b[0m\n",
            "1 label saved to /content/drive/My Drive/CV Final/Dataset_augment_50/Test/labels/test_results61/labels\n",
            "\n",
            "Results for 0039545_test.jpg:\n",
            "Class ID: 14, Confidence: 0.8830, BBox: [289.3704528808594, 239.6547393798828, 1307.410888671875, 1459.6981201171875]\n",
            "Processed 0039545_test.jpg. Saved results to /content/drive/My Drive/CV Final/Dataset_augment_50/Test/labels/test_results/0039545_test.jpg\n",
            "\n",
            "image 1/1 /content/drive/My Drive/CV Final/Dataset_augment_50/Test/images/0358515_test.jpg: 256x256 1 0358515, 45.4ms\n",
            "Speed: 1.0ms preprocess, 45.4ms inference, 0.9ms postprocess per image at shape (1, 3, 256, 256)\n",
            "Results saved to \u001b[1m/content/drive/My Drive/CV Final/Dataset_augment_50/Test/labels/test_results62\u001b[0m\n",
            "1 label saved to /content/drive/My Drive/CV Final/Dataset_augment_50/Test/labels/test_results62/labels\n",
            "\n",
            "Results for 0358515_test.jpg:\n",
            "Class ID: 16, Confidence: 0.8761, BBox: [131.1908416748047, 132.99887084960938, 470.2220458984375, 461.3988037109375]\n",
            "Processed 0358515_test.jpg. Saved results to /content/drive/My Drive/CV Final/Dataset_augment_50/Test/labels/test_results/0358515_test.jpg\n",
            "\n",
            "image 1/1 /content/drive/My Drive/CV Final/Dataset_augment_50/Test/images/0523050_test.jpg: 256x256 1 0523050, 47.0ms\n",
            "Speed: 1.2ms preprocess, 47.0ms inference, 0.9ms postprocess per image at shape (1, 3, 256, 256)\n",
            "Results saved to \u001b[1m/content/drive/My Drive/CV Final/Dataset_augment_50/Test/labels/test_results63\u001b[0m\n",
            "1 label saved to /content/drive/My Drive/CV Final/Dataset_augment_50/Test/labels/test_results63/labels\n",
            "\n",
            "Results for 0523050_test.jpg:\n",
            "Class ID: 17, Confidence: 0.9972, BBox: [15.648221969604492, 347.8581848144531, 720.8502197265625, 540.2930908203125]\n",
            "Processed 0523050_test.jpg. Saved results to /content/drive/My Drive/CV Final/Dataset_augment_50/Test/labels/test_results/0523050_test.jpg\n",
            "\n",
            "image 1/1 /content/drive/My Drive/CV Final/Dataset_augment_50/Test/images/1130475_test.jpg: 256x256 1 1130475, 48.4ms\n",
            "Speed: 1.0ms preprocess, 48.4ms inference, 1.0ms postprocess per image at shape (1, 3, 256, 256)\n",
            "Results saved to \u001b[1m/content/drive/My Drive/CV Final/Dataset_augment_50/Test/labels/test_results64\u001b[0m\n",
            "1 label saved to /content/drive/My Drive/CV Final/Dataset_augment_50/Test/labels/test_results64/labels\n",
            "\n",
            "Results for 1130475_test.jpg:\n",
            "Class ID: 20, Confidence: 0.9964, BBox: [197.9434051513672, 29.279136657714844, 617.5440063476562, 787.0490112304688]\n",
            "Processed 1130475_test.jpg. Saved results to /content/drive/My Drive/CV Final/Dataset_augment_50/Test/labels/test_results/1130475_test.jpg\n",
            "Could not read image: 1202290_test.jpg\n",
            "Test completed for 10 images. Results saved in: /content/drive/My Drive/CV Final/Dataset_augment_50/Test/labels\n"
          ]
        }
      ]
    },
    {
      "cell_type": "code",
      "source": [],
      "metadata": {
        "id": "_7QKa7y6qQed"
      },
      "execution_count": null,
      "outputs": []
    },
    {
      "cell_type": "code",
      "source": [],
      "metadata": {
        "id": "rtaU9iN0qQbV"
      },
      "execution_count": null,
      "outputs": []
    },
    {
      "cell_type": "code",
      "source": [],
      "metadata": {
        "id": "Q5LVOdW7qQY1"
      },
      "execution_count": null,
      "outputs": []
    },
    {
      "cell_type": "code",
      "source": [
        "from google.colab.patches import cv2_imshow\n",
        "def display_image_with_bboxes(image_path, label_path):\n",
        "    # Read the image\n",
        "    img = cv2.imread(image_path)\n",
        "    if img is None:\n",
        "        print(f\"Failed to load image: {image_path}\")\n",
        "        return\n",
        "\n",
        "    # Get image dimensions\n",
        "    img_height, img_width = img.shape[:2]\n",
        "\n",
        "    # Check if label file exists\n",
        "    if not os.path.exists(label_path):\n",
        "        print(f\"Label file not found: {label_path}\")\n",
        "        return\n",
        "\n",
        "    # Read the label file\n",
        "    with open(label_path, 'r') as file:\n",
        "        for line in file.readlines():\n",
        "            parts = line.strip().split()\n",
        "            if len(parts) != 5:\n",
        "                continue\n",
        "\n",
        "            # Parse the YOLO format (class_id, x_center, y_center, width, height)\n",
        "            class_id, x_center, y_center, width, height = map(float, parts)\n",
        "            class_id = int(class_id)\n",
        "\n",
        "            # Denormalize bounding box coordinates\n",
        "            x_center *= img_width\n",
        "            y_center *= img_height\n",
        "            width *= img_width\n",
        "            height *= img_height\n",
        "\n",
        "            # Convert center-based coordinates to top-left coordinates\n",
        "            x1 = int(x_center - width / 2)\n",
        "            y1 = int(y_center - height / 2)\n",
        "            x2 = int(x_center + width / 2)\n",
        "            y2 = int(y_center + height / 2)\n",
        "\n",
        "            # Draw the bounding box\n",
        "            cv2.rectangle(img, (x1, y1), (x2, y2), (0, 255, 0), 2)  # Green box\n",
        "\n",
        "    # Display the image with bounding boxes\n",
        "    cv2_imshow(img)\n",
        "    cv2.waitKey(0)\n",
        "    cv2.destroyAllWindows()\n",
        "\n",
        "# Example usage\n",
        "image_path = \"/content/drive/My Drive/CV Final/Dataset_augment_50/images/train/0000059_1_conflict.jpg\"  # Replace with your image path\n",
        "label_path = \"/content/drive/My Drive/CV Final/Dataset_augment_50/labels/train/0000059_1_conflict.txt\"  # Replace with the corresponding label file\n",
        "\n",
        "display_image_with_bboxes(image_path, label_path)\n"
      ],
      "metadata": {
        "colab": {
          "base_uri": "https://localhost:8080/",
          "height": 657
        },
        "id": "89ijymZBqQP2",
        "outputId": "959aad09-ecef-4ddc-a619-ee2be416f965"
      },
      "execution_count": null,
      "outputs": [
        {
          "output_type": "display_data",
          "data": {
            "text/plain": [
              "<PIL.Image.Image image mode=RGB size=640x640>"
            ],
            "image/png": "[encoded data removed]",
            "image/jpeg": "[encoded data removed]"
          },
          "metadata": {}
        }
      ]
    },
    {
      "cell_type": "code",
      "source": [],
      "metadata": {
        "id": "wrl_oitPrA-E"
      },
      "execution_count": null,
      "outputs": []
    }
  ]
}